{
 "cells": [
  {
   "cell_type": "markdown",
   "metadata": {
    "id": "ocxLZrr1BC7w"
   },
   "source": [
    "# Speech-to-Text Interface for Physiotherapists"
   ]
  },
  {
   "cell_type": "markdown",
   "metadata": {
    "id": "s0Hr5AB0BJKB"
   },
   "source": [
    "**ROMTech**\n",
    "\n",
    "Manoj Sharma, Omid Moridnejad, Raquel Colares, Thuvaarakkesh Ramanathan"
   ]
  },
  {
   "cell_type": "markdown",
   "metadata": {
    "id": "Fu85vsNvBqO9"
   },
   "source": [
    "## Installations"
   ]
  },
  {
   "cell_type": "code",
   "execution_count": 1,
   "metadata": {},
   "outputs": [
    {
     "name": "stdout",
     "output_type": "stream",
     "text": [
      "Collecting whisper\n",
      "  Downloading whisper-1.1.10.tar.gz (42 kB)\n",
      "\u001b[?25l     \u001b[90m━━━━━━━━━━━━━━━━━━━━━━━━━━━━━━━━━━━━━━━━\u001b[0m \u001b[32m0.0/42.8 kB\u001b[0m \u001b[31m?\u001b[0m eta \u001b[36m-:--:--\u001b[0m\r",
      "\u001b[2K     \u001b[90m━━━━━━━━━━━━━━━━━━━━━━━━━━━━━━━━━━━━━━━━\u001b[0m \u001b[32m42.8/42.8 kB\u001b[0m \u001b[31m1.6 MB/s\u001b[0m eta \u001b[36m0:00:00\u001b[0m\n",
      "\u001b[?25h  Preparing metadata (setup.py) ... \u001b[?25l\u001b[?25hdone\n",
      "Requirement already satisfied: six in /usr/local/lib/python3.11/dist-packages (from whisper) (1.17.0)\n",
      "Building wheels for collected packages: whisper\n",
      "  Building wheel for whisper (setup.py) ... \u001b[?25l\u001b[?25hdone\n",
      "  Created wheel for whisper: filename=whisper-1.1.10-py3-none-any.whl size=41120 sha256=9206c5202ac78a4e6dc2673eec0e4fe42ec2b7df8717ff91c9a5306760d27c23\n",
      "  Stored in directory: /root/.cache/pip/wheels/21/65/ee/4e6672aabfa486d3341a39a04f8f87c77e5156149299b5a7d0\n",
      "Successfully built whisper\n",
      "Installing collected packages: whisper\n",
      "Successfully installed whisper-1.1.10\n",
      "Collecting git+https://github.com/openai/whisper.git\n",
      "  Cloning https://github.com/openai/whisper.git to /tmp/pip-req-build-jkm38er7\n",
      "  Running command git clone --filter=blob:none --quiet https://github.com/openai/whisper.git /tmp/pip-req-build-jkm38er7\n",
      "  Resolved https://github.com/openai/whisper.git to commit 517a43ecd132a2089d85f4ebc044728a71d49f6e\n",
      "  Installing build dependencies ... \u001b[?25l\u001b[?25hdone\n",
      "  Getting requirements to build wheel ... \u001b[?25l\u001b[?25hdone\n",
      "  Preparing metadata (pyproject.toml) ... \u001b[?25l\u001b[?25hdone\n",
      "Requirement already satisfied: more-itertools in /usr/local/lib/python3.11/dist-packages (from openai-whisper==20240930) (10.6.0)\n",
      "Requirement already satisfied: numba in /usr/local/lib/python3.11/dist-packages (from openai-whisper==20240930) (0.60.0)\n",
      "Requirement already satisfied: numpy in /usr/local/lib/python3.11/dist-packages (from openai-whisper==20240930) (2.0.2)\n",
      "Collecting tiktoken (from openai-whisper==20240930)\n",
      "  Downloading tiktoken-0.9.0-cp311-cp311-manylinux_2_17_x86_64.manylinux2014_x86_64.whl.metadata (6.7 kB)\n",
      "Requirement already satisfied: torch in /usr/local/lib/python3.11/dist-packages (from openai-whisper==20240930) (2.6.0+cu124)\n",
      "Requirement already satisfied: tqdm in /usr/local/lib/python3.11/dist-packages (from openai-whisper==20240930) (4.67.1)\n",
      "Requirement already satisfied: triton>=2 in /usr/local/lib/python3.11/dist-packages (from openai-whisper==20240930) (3.2.0)\n",
      "Requirement already satisfied: llvmlite<0.44,>=0.43.0dev0 in /usr/local/lib/python3.11/dist-packages (from numba->openai-whisper==20240930) (0.43.0)\n",
      "Requirement already satisfied: regex>=2022.1.18 in /usr/local/lib/python3.11/dist-packages (from tiktoken->openai-whisper==20240930) (2024.11.6)\n",
      "Requirement already satisfied: requests>=2.26.0 in /usr/local/lib/python3.11/dist-packages (from tiktoken->openai-whisper==20240930) (2.32.3)\n",
      "Requirement already satisfied: filelock in /usr/local/lib/python3.11/dist-packages (from torch->openai-whisper==20240930) (3.18.0)\n",
      "Requirement already satisfied: typing-extensions>=4.10.0 in /usr/local/lib/python3.11/dist-packages (from torch->openai-whisper==20240930) (4.13.1)\n",
      "Requirement already satisfied: networkx in /usr/local/lib/python3.11/dist-packages (from torch->openai-whisper==20240930) (3.4.2)\n",
      "Requirement already satisfied: jinja2 in /usr/local/lib/python3.11/dist-packages (from torch->openai-whisper==20240930) (3.1.6)\n",
      "Requirement already satisfied: fsspec in /usr/local/lib/python3.11/dist-packages (from torch->openai-whisper==20240930) (2025.3.2)\n",
      "Collecting nvidia-cuda-nvrtc-cu12==12.4.127 (from torch->openai-whisper==20240930)\n",
      "  Downloading nvidia_cuda_nvrtc_cu12-12.4.127-py3-none-manylinux2014_x86_64.whl.metadata (1.5 kB)\n",
      "Collecting nvidia-cuda-runtime-cu12==12.4.127 (from torch->openai-whisper==20240930)\n",
      "  Downloading nvidia_cuda_runtime_cu12-12.4.127-py3-none-manylinux2014_x86_64.whl.metadata (1.5 kB)\n",
      "Collecting nvidia-cuda-cupti-cu12==12.4.127 (from torch->openai-whisper==20240930)\n",
      "  Downloading nvidia_cuda_cupti_cu12-12.4.127-py3-none-manylinux2014_x86_64.whl.metadata (1.6 kB)\n",
      "Collecting nvidia-cudnn-cu12==9.1.0.70 (from torch->openai-whisper==20240930)\n",
      "  Downloading nvidia_cudnn_cu12-9.1.0.70-py3-none-manylinux2014_x86_64.whl.metadata (1.6 kB)\n",
      "Collecting nvidia-cublas-cu12==12.4.5.8 (from torch->openai-whisper==20240930)\n",
      "  Downloading nvidia_cublas_cu12-12.4.5.8-py3-none-manylinux2014_x86_64.whl.metadata (1.5 kB)\n",
      "Collecting nvidia-cufft-cu12==11.2.1.3 (from torch->openai-whisper==20240930)\n",
      "  Downloading nvidia_cufft_cu12-11.2.1.3-py3-none-manylinux2014_x86_64.whl.metadata (1.5 kB)\n",
      "Collecting nvidia-curand-cu12==10.3.5.147 (from torch->openai-whisper==20240930)\n",
      "  Downloading nvidia_curand_cu12-10.3.5.147-py3-none-manylinux2014_x86_64.whl.metadata (1.5 kB)\n",
      "Collecting nvidia-cusolver-cu12==11.6.1.9 (from torch->openai-whisper==20240930)\n",
      "  Downloading nvidia_cusolver_cu12-11.6.1.9-py3-none-manylinux2014_x86_64.whl.metadata (1.6 kB)\n",
      "Collecting nvidia-cusparse-cu12==12.3.1.170 (from torch->openai-whisper==20240930)\n",
      "  Downloading nvidia_cusparse_cu12-12.3.1.170-py3-none-manylinux2014_x86_64.whl.metadata (1.6 kB)\n",
      "Requirement already satisfied: nvidia-cusparselt-cu12==0.6.2 in /usr/local/lib/python3.11/dist-packages (from torch->openai-whisper==20240930) (0.6.2)\n",
      "Requirement already satisfied: nvidia-nccl-cu12==2.21.5 in /usr/local/lib/python3.11/dist-packages (from torch->openai-whisper==20240930) (2.21.5)\n",
      "Requirement already satisfied: nvidia-nvtx-cu12==12.4.127 in /usr/local/lib/python3.11/dist-packages (from torch->openai-whisper==20240930) (12.4.127)\n",
      "Collecting nvidia-nvjitlink-cu12==12.4.127 (from torch->openai-whisper==20240930)\n",
      "  Downloading nvidia_nvjitlink_cu12-12.4.127-py3-none-manylinux2014_x86_64.whl.metadata (1.5 kB)\n",
      "Requirement already satisfied: sympy==1.13.1 in /usr/local/lib/python3.11/dist-packages (from torch->openai-whisper==20240930) (1.13.1)\n",
      "Requirement already satisfied: mpmath<1.4,>=1.1.0 in /usr/local/lib/python3.11/dist-packages (from sympy==1.13.1->torch->openai-whisper==20240930) (1.3.0)\n",
      "Requirement already satisfied: charset-normalizer<4,>=2 in /usr/local/lib/python3.11/dist-packages (from requests>=2.26.0->tiktoken->openai-whisper==20240930) (3.4.1)\n",
      "Requirement already satisfied: idna<4,>=2.5 in /usr/local/lib/python3.11/dist-packages (from requests>=2.26.0->tiktoken->openai-whisper==20240930) (3.10)\n",
      "Requirement already satisfied: urllib3<3,>=1.21.1 in /usr/local/lib/python3.11/dist-packages (from requests>=2.26.0->tiktoken->openai-whisper==20240930) (2.3.0)\n",
      "Requirement already satisfied: certifi>=2017.4.17 in /usr/local/lib/python3.11/dist-packages (from requests>=2.26.0->tiktoken->openai-whisper==20240930) (2025.1.31)\n",
      "Requirement already satisfied: MarkupSafe>=2.0 in /usr/local/lib/python3.11/dist-packages (from jinja2->torch->openai-whisper==20240930) (3.0.2)\n",
      "Downloading tiktoken-0.9.0-cp311-cp311-manylinux_2_17_x86_64.manylinux2014_x86_64.whl (1.2 MB)\n",
      "\u001b[2K   \u001b[90m━━━━━━━━━━━━━━━━━━━━━━━━━━━━━━━━━━━━━━━━\u001b[0m \u001b[32m1.2/1.2 MB\u001b[0m \u001b[31m33.3 MB/s\u001b[0m eta \u001b[36m0:00:00\u001b[0m\n",
      "\u001b[?25hDownloading nvidia_cublas_cu12-12.4.5.8-py3-none-manylinux2014_x86_64.whl (363.4 MB)\n",
      "\u001b[2K   \u001b[90m━━━━━━━━━━━━━━━━━━━━━━━━━━━━━━━━━━━━━━━\u001b[0m \u001b[32m363.4/363.4 MB\u001b[0m \u001b[31m271.3 MB/s\u001b[0m eta \u001b[36m0:00:00\u001b[0m\n",
      "\u001b[?25hDownloading nvidia_cuda_cupti_cu12-12.4.127-py3-none-manylinux2014_x86_64.whl (13.8 MB)\n",
      "\u001b[2K   \u001b[90m━━━━━━━━━━━━━━━━━━━━━━━━━━━━━━━━━━━━━━━━\u001b[0m \u001b[32m13.8/13.8 MB\u001b[0m \u001b[31m236.3 MB/s\u001b[0m eta \u001b[36m0:00:00\u001b[0m\n",
      "\u001b[?25hDownloading nvidia_cuda_nvrtc_cu12-12.4.127-py3-none-manylinux2014_x86_64.whl (24.6 MB)\n",
      "\u001b[2K   \u001b[90m━━━━━━━━━━━━━━━━━━━━━━━━━━━━━━━━━━━━━━━━\u001b[0m \u001b[32m24.6/24.6 MB\u001b[0m \u001b[31m287.4 MB/s\u001b[0m eta \u001b[36m0:00:00\u001b[0m\n",
      "\u001b[?25hDownloading nvidia_cuda_runtime_cu12-12.4.127-py3-none-manylinux2014_x86_64.whl (883 kB)\n",
      "\u001b[2K   \u001b[90m━━━━━━━━━━━━━━━━━━━━━━━━━━━━━━━━━━━━━━━\u001b[0m \u001b[32m883.7/883.7 kB\u001b[0m \u001b[31m190.8 MB/s\u001b[0m eta \u001b[36m0:00:00\u001b[0m\n",
      "\u001b[?25hDownloading nvidia_cudnn_cu12-9.1.0.70-py3-none-manylinux2014_x86_64.whl (664.8 MB)\n",
      "\u001b[2K   \u001b[90m━━━━━━━━━━━━━━━━━━━━━━━━━━━━━━━━━━━━━━━\u001b[0m \u001b[32m664.8/664.8 MB\u001b[0m \u001b[31m219.4 MB/s\u001b[0m eta \u001b[36m0:00:00\u001b[0m\n",
      "\u001b[?25hDownloading nvidia_cufft_cu12-11.2.1.3-py3-none-manylinux2014_x86_64.whl (211.5 MB)\n",
      "\u001b[2K   \u001b[90m━━━━━━━━━━━━━━━━━━━━━━━━━━━━━━━━━━━━━━━\u001b[0m \u001b[32m211.5/211.5 MB\u001b[0m \u001b[31m230.7 MB/s\u001b[0m eta \u001b[36m0:00:00\u001b[0m\n",
      "\u001b[?25hDownloading nvidia_curand_cu12-10.3.5.147-py3-none-manylinux2014_x86_64.whl (56.3 MB)\n",
      "\u001b[2K   \u001b[90m━━━━━━━━━━━━━━━━━━━━━━━━━━━━━━━━━━━━━━━━\u001b[0m \u001b[32m56.3/56.3 MB\u001b[0m \u001b[31m185.1 MB/s\u001b[0m eta \u001b[36m0:00:00\u001b[0m\n",
      "\u001b[?25hDownloading nvidia_cusolver_cu12-11.6.1.9-py3-none-manylinux2014_x86_64.whl (127.9 MB)\n",
      "\u001b[2K   \u001b[90m━━━━━━━━━━━━━━━━━━━━━━━━━━━━━━━━━━━━━━━\u001b[0m \u001b[32m127.9/127.9 MB\u001b[0m \u001b[31m197.7 MB/s\u001b[0m eta \u001b[36m0:00:00\u001b[0m\n",
      "\u001b[?25hDownloading nvidia_cusparse_cu12-12.3.1.170-py3-none-manylinux2014_x86_64.whl (207.5 MB)\n",
      "\u001b[2K   \u001b[90m━━━━━━━━━━━━━━━━━━━━━━━━━━━━━━━━━━━━━━━\u001b[0m \u001b[32m207.5/207.5 MB\u001b[0m \u001b[31m170.0 MB/s\u001b[0m eta \u001b[36m0:00:00\u001b[0m\n",
      "\u001b[?25hDownloading nvidia_nvjitlink_cu12-12.4.127-py3-none-manylinux2014_x86_64.whl (21.1 MB)\n",
      "\u001b[2K   \u001b[90m━━━━━━━━━━━━━━━━━━━━━━━━━━━━━━━━━━━━━━━━\u001b[0m \u001b[32m21.1/21.1 MB\u001b[0m \u001b[31m23.3 MB/s\u001b[0m eta \u001b[36m0:00:00\u001b[0m\n",
      "\u001b[?25hBuilding wheels for collected packages: openai-whisper\n",
      "  Building wheel for openai-whisper (pyproject.toml) ... \u001b[?25l\u001b[?25hdone\n",
      "  Created wheel for openai-whisper: filename=openai_whisper-20240930-py3-none-any.whl size=803707 sha256=b9a2ff2264551945b5dba29de56bc16ede463ce8eac23baab460bd271a4259ba\n",
      "  Stored in directory: /tmp/pip-ephem-wheel-cache-j1qft11g/wheels/1f/1d/98/9583695e6695a6ac0ad42d87511097dce5ba486647dbfecb0e\n",
      "Successfully built openai-whisper\n",
      "Installing collected packages: nvidia-nvjitlink-cu12, nvidia-curand-cu12, nvidia-cufft-cu12, nvidia-cuda-runtime-cu12, nvidia-cuda-nvrtc-cu12, nvidia-cuda-cupti-cu12, nvidia-cublas-cu12, tiktoken, nvidia-cusparse-cu12, nvidia-cudnn-cu12, nvidia-cusolver-cu12, openai-whisper\n",
      "  Attempting uninstall: nvidia-nvjitlink-cu12\n",
      "    Found existing installation: nvidia-nvjitlink-cu12 12.5.82\n",
      "    Uninstalling nvidia-nvjitlink-cu12-12.5.82:\n",
      "      Successfully uninstalled nvidia-nvjitlink-cu12-12.5.82\n",
      "  Attempting uninstall: nvidia-curand-cu12\n",
      "    Found existing installation: nvidia-curand-cu12 10.3.6.82\n",
      "    Uninstalling nvidia-curand-cu12-10.3.6.82:\n",
      "      Successfully uninstalled nvidia-curand-cu12-10.3.6.82\n",
      "  Attempting uninstall: nvidia-cufft-cu12\n",
      "    Found existing installation: nvidia-cufft-cu12 11.2.3.61\n",
      "    Uninstalling nvidia-cufft-cu12-11.2.3.61:\n",
      "      Successfully uninstalled nvidia-cufft-cu12-11.2.3.61\n",
      "  Attempting uninstall: nvidia-cuda-runtime-cu12\n",
      "    Found existing installation: nvidia-cuda-runtime-cu12 12.5.82\n",
      "    Uninstalling nvidia-cuda-runtime-cu12-12.5.82:\n",
      "      Successfully uninstalled nvidia-cuda-runtime-cu12-12.5.82\n",
      "  Attempting uninstall: nvidia-cuda-nvrtc-cu12\n",
      "    Found existing installation: nvidia-cuda-nvrtc-cu12 12.5.82\n",
      "    Uninstalling nvidia-cuda-nvrtc-cu12-12.5.82:\n",
      "      Successfully uninstalled nvidia-cuda-nvrtc-cu12-12.5.82\n",
      "  Attempting uninstall: nvidia-cuda-cupti-cu12\n",
      "    Found existing installation: nvidia-cuda-cupti-cu12 12.5.82\n",
      "    Uninstalling nvidia-cuda-cupti-cu12-12.5.82:\n",
      "      Successfully uninstalled nvidia-cuda-cupti-cu12-12.5.82\n",
      "  Attempting uninstall: nvidia-cublas-cu12\n",
      "    Found existing installation: nvidia-cublas-cu12 12.5.3.2\n",
      "    Uninstalling nvidia-cublas-cu12-12.5.3.2:\n",
      "      Successfully uninstalled nvidia-cublas-cu12-12.5.3.2\n",
      "  Attempting uninstall: nvidia-cusparse-cu12\n",
      "    Found existing installation: nvidia-cusparse-cu12 12.5.1.3\n",
      "    Uninstalling nvidia-cusparse-cu12-12.5.1.3:\n",
      "      Successfully uninstalled nvidia-cusparse-cu12-12.5.1.3\n",
      "  Attempting uninstall: nvidia-cudnn-cu12\n",
      "    Found existing installation: nvidia-cudnn-cu12 9.3.0.75\n",
      "    Uninstalling nvidia-cudnn-cu12-9.3.0.75:\n",
      "      Successfully uninstalled nvidia-cudnn-cu12-9.3.0.75\n",
      "  Attempting uninstall: nvidia-cusolver-cu12\n",
      "    Found existing installation: nvidia-cusolver-cu12 11.6.3.83\n",
      "    Uninstalling nvidia-cusolver-cu12-11.6.3.83:\n",
      "      Successfully uninstalled nvidia-cusolver-cu12-11.6.3.83\n",
      "Successfully installed nvidia-cublas-cu12-12.4.5.8 nvidia-cuda-cupti-cu12-12.4.127 nvidia-cuda-nvrtc-cu12-12.4.127 nvidia-cuda-runtime-cu12-12.4.127 nvidia-cudnn-cu12-9.1.0.70 nvidia-cufft-cu12-11.2.1.3 nvidia-curand-cu12-10.3.5.147 nvidia-cusolver-cu12-11.6.1.9 nvidia-cusparse-cu12-12.3.1.170 nvidia-nvjitlink-cu12-12.4.127 openai-whisper-20240930 tiktoken-0.9.0\n",
      "Requirement already satisfied: sentence_transformers in /usr/local/lib/python3.11/dist-packages (3.4.1)\n",
      "Requirement already satisfied: transformers<5.0.0,>=4.41.0 in /usr/local/lib/python3.11/dist-packages (from sentence_transformers) (4.50.3)\n",
      "Requirement already satisfied: tqdm in /usr/local/lib/python3.11/dist-packages (from sentence_transformers) (4.67.1)\n",
      "Requirement already satisfied: torch>=1.11.0 in /usr/local/lib/python3.11/dist-packages (from sentence_transformers) (2.6.0+cu124)\n",
      "Requirement already satisfied: scikit-learn in /usr/local/lib/python3.11/dist-packages (from sentence_transformers) (1.6.1)\n",
      "Requirement already satisfied: scipy in /usr/local/lib/python3.11/dist-packages (from sentence_transformers) (1.14.1)\n",
      "Requirement already satisfied: huggingface-hub>=0.20.0 in /usr/local/lib/python3.11/dist-packages (from sentence_transformers) (0.30.1)\n",
      "Requirement already satisfied: Pillow in /usr/local/lib/python3.11/dist-packages (from sentence_transformers) (11.1.0)\n",
      "Requirement already satisfied: filelock in /usr/local/lib/python3.11/dist-packages (from huggingface-hub>=0.20.0->sentence_transformers) (3.18.0)\n",
      "Requirement already satisfied: fsspec>=2023.5.0 in /usr/local/lib/python3.11/dist-packages (from huggingface-hub>=0.20.0->sentence_transformers) (2025.3.2)\n",
      "Requirement already satisfied: packaging>=20.9 in /usr/local/lib/python3.11/dist-packages (from huggingface-hub>=0.20.0->sentence_transformers) (24.2)\n",
      "Requirement already satisfied: pyyaml>=5.1 in /usr/local/lib/python3.11/dist-packages (from huggingface-hub>=0.20.0->sentence_transformers) (6.0.2)\n",
      "Requirement already satisfied: requests in /usr/local/lib/python3.11/dist-packages (from huggingface-hub>=0.20.0->sentence_transformers) (2.32.3)\n",
      "Requirement already satisfied: typing-extensions>=3.7.4.3 in /usr/local/lib/python3.11/dist-packages (from huggingface-hub>=0.20.0->sentence_transformers) (4.13.1)\n",
      "Requirement already satisfied: networkx in /usr/local/lib/python3.11/dist-packages (from torch>=1.11.0->sentence_transformers) (3.4.2)\n",
      "Requirement already satisfied: jinja2 in /usr/local/lib/python3.11/dist-packages (from torch>=1.11.0->sentence_transformers) (3.1.6)\n",
      "Requirement already satisfied: nvidia-cuda-nvrtc-cu12==12.4.127 in /usr/local/lib/python3.11/dist-packages (from torch>=1.11.0->sentence_transformers) (12.4.127)\n",
      "Requirement already satisfied: nvidia-cuda-runtime-cu12==12.4.127 in /usr/local/lib/python3.11/dist-packages (from torch>=1.11.0->sentence_transformers) (12.4.127)\n",
      "Requirement already satisfied: nvidia-cuda-cupti-cu12==12.4.127 in /usr/local/lib/python3.11/dist-packages (from torch>=1.11.0->sentence_transformers) (12.4.127)\n",
      "Requirement already satisfied: nvidia-cudnn-cu12==9.1.0.70 in /usr/local/lib/python3.11/dist-packages (from torch>=1.11.0->sentence_transformers) (9.1.0.70)\n",
      "Requirement already satisfied: nvidia-cublas-cu12==12.4.5.8 in /usr/local/lib/python3.11/dist-packages (from torch>=1.11.0->sentence_transformers) (12.4.5.8)\n",
      "Requirement already satisfied: nvidia-cufft-cu12==11.2.1.3 in /usr/local/lib/python3.11/dist-packages (from torch>=1.11.0->sentence_transformers) (11.2.1.3)\n",
      "Requirement already satisfied: nvidia-curand-cu12==10.3.5.147 in /usr/local/lib/python3.11/dist-packages (from torch>=1.11.0->sentence_transformers) (10.3.5.147)\n",
      "Requirement already satisfied: nvidia-cusolver-cu12==11.6.1.9 in /usr/local/lib/python3.11/dist-packages (from torch>=1.11.0->sentence_transformers) (11.6.1.9)\n",
      "Requirement already satisfied: nvidia-cusparse-cu12==12.3.1.170 in /usr/local/lib/python3.11/dist-packages (from torch>=1.11.0->sentence_transformers) (12.3.1.170)\n",
      "Requirement already satisfied: nvidia-cusparselt-cu12==0.6.2 in /usr/local/lib/python3.11/dist-packages (from torch>=1.11.0->sentence_transformers) (0.6.2)\n",
      "Requirement already satisfied: nvidia-nccl-cu12==2.21.5 in /usr/local/lib/python3.11/dist-packages (from torch>=1.11.0->sentence_transformers) (2.21.5)\n",
      "Requirement already satisfied: nvidia-nvtx-cu12==12.4.127 in /usr/local/lib/python3.11/dist-packages (from torch>=1.11.0->sentence_transformers) (12.4.127)\n",
      "Requirement already satisfied: nvidia-nvjitlink-cu12==12.4.127 in /usr/local/lib/python3.11/dist-packages (from torch>=1.11.0->sentence_transformers) (12.4.127)\n",
      "Requirement already satisfied: triton==3.2.0 in /usr/local/lib/python3.11/dist-packages (from torch>=1.11.0->sentence_transformers) (3.2.0)\n",
      "Requirement already satisfied: sympy==1.13.1 in /usr/local/lib/python3.11/dist-packages (from torch>=1.11.0->sentence_transformers) (1.13.1)\n",
      "Requirement already satisfied: mpmath<1.4,>=1.1.0 in /usr/local/lib/python3.11/dist-packages (from sympy==1.13.1->torch>=1.11.0->sentence_transformers) (1.3.0)\n",
      "Requirement already satisfied: numpy>=1.17 in /usr/local/lib/python3.11/dist-packages (from transformers<5.0.0,>=4.41.0->sentence_transformers) (2.0.2)\n",
      "Requirement already satisfied: regex!=2019.12.17 in /usr/local/lib/python3.11/dist-packages (from transformers<5.0.0,>=4.41.0->sentence_transformers) (2024.11.6)\n",
      "Requirement already satisfied: tokenizers<0.22,>=0.21 in /usr/local/lib/python3.11/dist-packages (from transformers<5.0.0,>=4.41.0->sentence_transformers) (0.21.1)\n",
      "Requirement already satisfied: safetensors>=0.4.3 in /usr/local/lib/python3.11/dist-packages (from transformers<5.0.0,>=4.41.0->sentence_transformers) (0.5.3)\n",
      "Requirement already satisfied: joblib>=1.2.0 in /usr/local/lib/python3.11/dist-packages (from scikit-learn->sentence_transformers) (1.4.2)\n",
      "Requirement already satisfied: threadpoolctl>=3.1.0 in /usr/local/lib/python3.11/dist-packages (from scikit-learn->sentence_transformers) (3.6.0)\n",
      "Requirement already satisfied: MarkupSafe>=2.0 in /usr/local/lib/python3.11/dist-packages (from jinja2->torch>=1.11.0->sentence_transformers) (3.0.2)\n",
      "Requirement already satisfied: charset-normalizer<4,>=2 in /usr/local/lib/python3.11/dist-packages (from requests->huggingface-hub>=0.20.0->sentence_transformers) (3.4.1)\n",
      "Requirement already satisfied: idna<4,>=2.5 in /usr/local/lib/python3.11/dist-packages (from requests->huggingface-hub>=0.20.0->sentence_transformers) (3.10)\n",
      "Requirement already satisfied: urllib3<3,>=1.21.1 in /usr/local/lib/python3.11/dist-packages (from requests->huggingface-hub>=0.20.0->sentence_transformers) (2.3.0)\n",
      "Requirement already satisfied: certifi>=2017.4.17 in /usr/local/lib/python3.11/dist-packages (from requests->huggingface-hub>=0.20.0->sentence_transformers) (2025.1.31)\n"
     ]
    }
   ],
   "source": [
    "# Installing the necessary libraries\n",
    "!pip install whisper\n",
    "!pip install --upgrade --no-cache-dir git+https://github.com/openai/whisper.git\n",
    "!pip install sentence_transformers"
   ]
  },
  {
   "cell_type": "markdown",
   "metadata": {
    "id": "lKX7U6_4IQfp"
   },
   "source": [
    "## Libraries"
   ]
  },
  {
   "cell_type": "code",
   "execution_count": 2,
   "metadata": {},
   "outputs": [],
   "source": [
    "# Importing the libraries\n",
    "import whisper\n",
    "import torch\n",
    "import torch.nn as nn\n",
    "import torch.optim as optim\n",
    "from sentence_transformers import SentenceTransformer\n",
    "import numpy as np\n",
    "import os\n",
    "import matplotlib.pyplot as plt\n",
    "import torch.nn.functional as F\n",
    "import requests\n",
    "import tempfile\n",
    "import shutil\n",
    "from transformers import BertTokenizer, BertModel\n",
    "from sklearn.metrics.pairwise import cosine_similarity"
   ]
  },
  {
   "cell_type": "markdown",
   "metadata": {
    "id": "BOEvlDiDIjZU"
   },
   "source": [
    "## Data"
   ]
  },
  {
   "cell_type": "code",
   "execution_count": 3,
   "metadata": {},
   "outputs": [],
   "source": [
    "# Getting the audios data from the Github repository\n",
    "def get_github_audio_files():\n",
    "    url = \"https://api.github.com/repos/raquelcolares/ROMTech/contents/data\"\n",
    "    response = requests.get(url)\n",
    "    data = response.json()\n",
    "    audio_urls = [item[\"download_url\"] for item in data if item[\"name\"].endswith(\".wav\") or item[\"name\"].endswith(\".mp3\")]\n",
    "    return audio_urls\n",
    "\n",
    "def download_and_transcribe(url):\n",
    "    response = requests.get(url, stream=True)\n",
    "    if response.status_code == 200:\n",
    "        with tempfile.NamedTemporaryFile(delete=False, suffix=\".wav\") as tmp:\n",
    "            shutil.copyfileobj(response.raw, tmp)\n",
    "            return transcribe_audio(tmp.name)\n",
    "    return None\n",
    "\n",
    "def transcribe_all_from_github():\n",
    "    audio_urls = get_github_audio_files()\n",
    "    transcriptions = []\n",
    "    for url in audio_urls:\n",
    "        print(f\"Transcribing: {url}\")\n",
    "        text = download_and_transcribe(url)\n",
    "        if text:\n",
    "            transcriptions.append(text)\n",
    "    return transcriptions"
   ]
  },
  {
   "cell_type": "markdown",
   "metadata": {
    "id": "hZWQ02ucJ1yc"
   },
   "source": [
    "## Transcription"
   ]
  },
  {
   "cell_type": "markdown",
   "metadata": {
    "id": "mXxSlv8pJ_zx"
   },
   "source": [
    "### Whisper model"
   ]
  },
  {
   "cell_type": "code",
   "execution_count": 4,
   "metadata": {},
   "outputs": [
    {
     "name": "stderr",
     "output_type": "stream",
     "text": [
      "100%|████████████████████████████████████████| 139M/139M [00:00<00:00, 152MiB/s]\n",
      "/usr/local/lib/python3.11/dist-packages/huggingface_hub/utils/_auth.py:94: UserWarning: \n",
      "The secret `HF_TOKEN` does not exist in your Colab secrets.\n",
      "To authenticate with the Hugging Face Hub, create a token in your settings tab (https://huggingface.co/settings/tokens), set it as secret in your Google Colab and restart your session.\n",
      "You will be able to reuse this secret in all of your notebooks.\n",
      "Please note that authentication is recommended but still optional to access public models or datasets.\n",
      "  warnings.warn(\n"
     ]
    },
    {
     "data": {
      "application/vnd.jupyter.widget-view+json": {
       "model_id": "693e7e5e505a47658bd0e5d845f551b7",
       "version_major": 2,
       "version_minor": 0
      },
      "text/plain": [
       "modules.json:   0%|          | 0.00/349 [00:00<?, ?B/s]"
      ]
     },
     "metadata": {},
     "output_type": "display_data"
    },
    {
     "data": {
      "application/vnd.jupyter.widget-view+json": {
       "model_id": "da0310e312504acfb87a8696a4b04363",
       "version_major": 2,
       "version_minor": 0
      },
      "text/plain": [
       "config_sentence_transformers.json:   0%|          | 0.00/116 [00:00<?, ?B/s]"
      ]
     },
     "metadata": {},
     "output_type": "display_data"
    },
    {
     "data": {
      "application/vnd.jupyter.widget-view+json": {
       "model_id": "d9bb443f262344d1b49fab228decee9d",
       "version_major": 2,
       "version_minor": 0
      },
      "text/plain": [
       "README.md:   0%|          | 0.00/10.5k [00:00<?, ?B/s]"
      ]
     },
     "metadata": {},
     "output_type": "display_data"
    },
    {
     "data": {
      "application/vnd.jupyter.widget-view+json": {
       "model_id": "ea4a142d9eb34b22a17bd82bc48cf801",
       "version_major": 2,
       "version_minor": 0
      },
      "text/plain": [
       "sentence_bert_config.json:   0%|          | 0.00/53.0 [00:00<?, ?B/s]"
      ]
     },
     "metadata": {},
     "output_type": "display_data"
    },
    {
     "data": {
      "application/vnd.jupyter.widget-view+json": {
       "model_id": "250b0037956341e289f5274b7cb9f7f4",
       "version_major": 2,
       "version_minor": 0
      },
      "text/plain": [
       "config.json:   0%|          | 0.00/612 [00:00<?, ?B/s]"
      ]
     },
     "metadata": {},
     "output_type": "display_data"
    },
    {
     "name": "stderr",
     "output_type": "stream",
     "text": [
      "Xet Storage is enabled for this repo, but the 'hf_xet' package is not installed. Falling back to regular HTTP download. For better performance, install the package with: `pip install huggingface_hub[hf_xet]` or `pip install hf_xet`\n",
      "WARNING:huggingface_hub.file_download:Xet Storage is enabled for this repo, but the 'hf_xet' package is not installed. Falling back to regular HTTP download. For better performance, install the package with: `pip install huggingface_hub[hf_xet]` or `pip install hf_xet`\n"
     ]
    },
    {
     "data": {
      "application/vnd.jupyter.widget-view+json": {
       "model_id": "abc608f5cda446c19ae1309a62ada231",
       "version_major": 2,
       "version_minor": 0
      },
      "text/plain": [
       "model.safetensors:   0%|          | 0.00/90.9M [00:00<?, ?B/s]"
      ]
     },
     "metadata": {},
     "output_type": "display_data"
    },
    {
     "data": {
      "application/vnd.jupyter.widget-view+json": {
       "model_id": "9330733a292c4c4983d5dbea191bc90d",
       "version_major": 2,
       "version_minor": 0
      },
      "text/plain": [
       "tokenizer_config.json:   0%|          | 0.00/350 [00:00<?, ?B/s]"
      ]
     },
     "metadata": {},
     "output_type": "display_data"
    },
    {
     "data": {
      "application/vnd.jupyter.widget-view+json": {
       "model_id": "e080133997f14466be56663ff4317562",
       "version_major": 2,
       "version_minor": 0
      },
      "text/plain": [
       "vocab.txt:   0%|          | 0.00/232k [00:00<?, ?B/s]"
      ]
     },
     "metadata": {},
     "output_type": "display_data"
    },
    {
     "data": {
      "application/vnd.jupyter.widget-view+json": {
       "model_id": "c415a05d40ea428db259be8a7d6a61fd",
       "version_major": 2,
       "version_minor": 0
      },
      "text/plain": [
       "tokenizer.json:   0%|          | 0.00/466k [00:00<?, ?B/s]"
      ]
     },
     "metadata": {},
     "output_type": "display_data"
    },
    {
     "data": {
      "application/vnd.jupyter.widget-view+json": {
       "model_id": "03830fcbcc11458c8b5a4283757aa83d",
       "version_major": 2,
       "version_minor": 0
      },
      "text/plain": [
       "special_tokens_map.json:   0%|          | 0.00/112 [00:00<?, ?B/s]"
      ]
     },
     "metadata": {},
     "output_type": "display_data"
    },
    {
     "data": {
      "application/vnd.jupyter.widget-view+json": {
       "model_id": "e793652756194f7fa43957e95a966816",
       "version_major": 2,
       "version_minor": 0
      },
      "text/plain": [
       "config.json:   0%|          | 0.00/190 [00:00<?, ?B/s]"
      ]
     },
     "metadata": {},
     "output_type": "display_data"
    }
   ],
   "source": [
    "# Loading and defining the Whisper and Sentece Transformer model\n",
    "def load_whisper_model():\n",
    "    return whisper.load_model(\"base\")\n",
    "\n",
    "def load_sentence_model():\n",
    "    return SentenceTransformer(\"all-MiniLM-L6-v2\")\n",
    "\n",
    "whisper_model = load_whisper_model()\n",
    "sentence_model = load_sentence_model()"
   ]
  },
  {
   "cell_type": "code",
   "execution_count": 5,
   "metadata": {},
   "outputs": [],
   "source": [
    "# Transcribing the audios using the Whisper model\n",
    "def transcribe_audio(audio_path):\n",
    "    result = whisper_model.transcribe(audio_path)\n",
    "    return result[\"text\"]"
   ]
  },
  {
   "cell_type": "markdown",
   "metadata": {
    "id": "_L_5th0kKC0w"
   },
   "source": [
    "## Summarization"
   ]
  },
  {
   "cell_type": "markdown",
   "metadata": {
    "id": "mnWm0vMqKDNa"
   },
   "source": [
    "### Autoencoder model"
   ]
  },
  {
   "cell_type": "code",
   "execution_count": 6,
   "metadata": {},
   "outputs": [],
   "source": [
    "# Creating the Autoencoder\n",
    "class Autoencoder(nn.Module):\n",
    "    def __init__(self, input_dim=384, hidden_dim=256):\n",
    "        super(Autoencoder, self).__init__()\n",
    "        self.encoder = nn.Sequential(\n",
    "            nn.Linear(input_dim, hidden_dim),\n",
    "            nn.ReLU()\n",
    "        )\n",
    "        self.decoder = nn.Sequential(\n",
    "            nn.Linear(hidden_dim, input_dim),\n",
    "            nn.Tanh()\n",
    "        )\n",
    "\n",
    "    def forward(self, x):\n",
    "        encoded = self.encoder(x)\n",
    "        decoded = self.decoder(encoded)\n",
    "        return decoded"
   ]
  },
  {
   "cell_type": "code",
   "execution_count": 7,
   "metadata": {},
   "outputs": [],
   "source": [
    "# Training the Autoencoder on the transcriptions got it from Whisper\n",
    "def train_autoencoder(transcriptions, num_epochs, criterion, optimizer, autoencoder):\n",
    "    all_embeddings = []\n",
    "    for transcription in transcriptions:\n",
    "        sentences = transcription.split(\". \")\n",
    "        if len(sentences) < 2:\n",
    "            continue\n",
    "        embeddings = sentence_model.encode(sentences, normalize_embeddings=True)\n",
    "        all_embeddings.append(torch.tensor(embeddings, dtype=torch.float32))\n",
    "\n",
    "    num_epochs = num_epochs\n",
    "    losses = []\n",
    "    cosine_scores = []\n",
    "\n",
    "    for epoch in range(num_epochs):\n",
    "        total_loss = 0\n",
    "        total_cosine = 0\n",
    "        total_sentences = 0\n",
    "\n",
    "        for embeddings in all_embeddings:\n",
    "            outputs = autoencoder(embeddings)\n",
    "            loss = criterion(outputs, embeddings)\n",
    "\n",
    "            mse = criterion(outputs, embeddings)\n",
    "            cosine = 1 - F.cosine_similarity(outputs, embeddings, dim=1).mean()\n",
    "            loss = mse + cosine\n",
    "\n",
    "            optimizer.zero_grad()\n",
    "            loss.backward()\n",
    "            optimizer.step()\n",
    "\n",
    "            total_loss += loss.item()\n",
    "            total_cosine += (1 - cosine.item()) * len(embeddings)\n",
    "            total_sentences += len(embeddings)\n",
    "\n",
    "        avg_loss = total_loss / len(all_embeddings)\n",
    "        avg_cosine = total_cosine / total_sentences\n",
    "        losses.append(avg_loss)\n",
    "        cosine_scores.append(avg_cosine)\n",
    "\n",
    "        print(f\"Epoch [{epoch+1}/{num_epochs}], Loss: {avg_loss:.4f}, Cosine Similarity: {avg_cosine:.4f}\")\n",
    "\n",
    "    # Plotting the Loss Curve and Cosine Similarity\n",
    "    plt.figure(figsize=(12, 5))\n",
    "    plt.subplot(1, 2, 1)\n",
    "    plt.plot(range(1, num_epochs + 1), losses, label=\"MSE Loss\")\n",
    "    plt.title(\"Loss Curve\")\n",
    "    plt.xlabel(\"Epoch\")\n",
    "    plt.ylabel(\"Loss\")\n",
    "\n",
    "    plt.subplot(1, 2, 2)\n",
    "    plt.plot(range(1, num_epochs + 1), cosine_scores, label=\"Cosine Similarity\", color=\"green\")\n",
    "    plt.title(\"Cosine Similarity\")\n",
    "    plt.xlabel(\"Epoch\")\n",
    "    plt.ylabel(\"Cosine Similarity\")\n",
    "    plt.show()\n",
    "\n",
    "    # Saving the autoencoder model weights\n",
    "    torch.save(autoencoder.state_dict(), \"autoencoder.pt\")\n",
    "    print(\"Autoencoder model saved as 'autoencoder.pt'.\")\n",
    "\n",
    "    return autoencoder"
   ]
  },
  {
   "cell_type": "code",
   "execution_count": 8,
   "metadata": {},
   "outputs": [],
   "source": [
    "# Summarizing the transcriptions\n",
    "def summarize_text(transcription, autoencoder):\n",
    "    sentences = transcription.split(\". \")\n",
    "    if len(sentences) <= 2:\n",
    "        return transcription\n",
    "\n",
    "    embeddings = sentence_model.encode(sentences)\n",
    "    embeddings_tensor = torch.tensor(embeddings, dtype=torch.float32)\n",
    "\n",
    "    with torch.no_grad():\n",
    "        encoded = autoencoder.encoder(embeddings_tensor)\n",
    "        decoded = autoencoder.decoder(encoded)\n",
    "        errors = torch.mean((decoded - embeddings_tensor) ** 2, dim=1)\n",
    "        summary_length = min(10, len(sentences))\n",
    "        top_indices = errors.argsort()[:summary_length]\n",
    "        summary = \" \".join([sentences[i] for i in sorted(top_indices)])\n",
    "\n",
    "    return summary"
   ]
  },
  {
   "cell_type": "code",
   "execution_count": 9,
   "metadata": {},
   "outputs": [
    {
     "name": "stdout",
     "output_type": "stream",
     "text": [
      "\n",
      "------ Transcribing the audio files of Github ------\n",
      "Transcribing: https://raw.githubusercontent.com/raquelcolares/ROMTech/main/data/day1_consultation01_doctor.wav\n",
      "Transcribing: https://raw.githubusercontent.com/raquelcolares/ROMTech/main/data/day1_consultation01_patient.wav\n",
      "Transcribing: https://raw.githubusercontent.com/raquelcolares/ROMTech/main/data/day1_consultation02_doctor.wav\n",
      "Transcribing: https://raw.githubusercontent.com/raquelcolares/ROMTech/main/data/day1_consultation02_patient.wav\n",
      "Transcribing: https://raw.githubusercontent.com/raquelcolares/ROMTech/main/data/day1_consultation03_doctor.wav\n",
      "Transcribing: https://raw.githubusercontent.com/raquelcolares/ROMTech/main/data/day1_consultation03_patient.wav\n",
      "Transcribing: https://raw.githubusercontent.com/raquelcolares/ROMTech/main/data/day1_consultation04_doctor.wav\n",
      "Transcribing: https://raw.githubusercontent.com/raquelcolares/ROMTech/main/data/day1_consultation04_patient.wav\n",
      "Transcribing: https://raw.githubusercontent.com/raquelcolares/ROMTech/main/data/day1_consultation05_doctor.wav\n",
      "Transcribing: https://raw.githubusercontent.com/raquelcolares/ROMTech/main/data/day1_consultation05_patient.wav\n",
      "Transcribing: https://raw.githubusercontent.com/raquelcolares/ROMTech/main/data/day1_consultation06_doctor.wav\n",
      "Transcribing: https://raw.githubusercontent.com/raquelcolares/ROMTech/main/data/day1_consultation06_patient.wav\n",
      "Transcribing: https://raw.githubusercontent.com/raquelcolares/ROMTech/main/data/day1_consultation07_doctor.wav\n",
      "Transcribing: https://raw.githubusercontent.com/raquelcolares/ROMTech/main/data/day1_consultation07_patient.wav\n",
      "Transcribing: https://raw.githubusercontent.com/raquelcolares/ROMTech/main/data/day1_consultation08_doctor.wav\n",
      "Transcribing: https://raw.githubusercontent.com/raquelcolares/ROMTech/main/data/day1_consultation08_patient.wav\n",
      "Transcribing: https://raw.githubusercontent.com/raquelcolares/ROMTech/main/data/day1_consultation09_doctor.wav\n",
      "Transcribing: https://raw.githubusercontent.com/raquelcolares/ROMTech/main/data/day1_consultation09_patient.wav\n",
      "Transcribing: https://raw.githubusercontent.com/raquelcolares/ROMTech/main/data/day1_consultation10_doctor.wav\n",
      "Transcribing: https://raw.githubusercontent.com/raquelcolares/ROMTech/main/data/day1_consultation10_patient.wav\n",
      "Transcribing: https://raw.githubusercontent.com/raquelcolares/ROMTech/main/data/day1_consultation11_doctor.wav\n",
      "Transcribing: https://raw.githubusercontent.com/raquelcolares/ROMTech/main/data/day1_consultation11_patient.wav\n",
      "Transcribing: https://raw.githubusercontent.com/raquelcolares/ROMTech/main/data/day1_consultation12_doctor.wav\n",
      "Transcribing: https://raw.githubusercontent.com/raquelcolares/ROMTech/main/data/day1_consultation12_patient.wav\n",
      "Transcribing: https://raw.githubusercontent.com/raquelcolares/ROMTech/main/data/day1_consultation13_doctor.wav\n",
      "Transcribing: https://raw.githubusercontent.com/raquelcolares/ROMTech/main/data/day1_consultation13_patient.wav\n",
      "Transcribing: https://raw.githubusercontent.com/raquelcolares/ROMTech/main/data/day1_consultation14_doctor.wav\n",
      "Transcribing: https://raw.githubusercontent.com/raquelcolares/ROMTech/main/data/day1_consultation14_patient.wav\n",
      "Transcribing: https://raw.githubusercontent.com/raquelcolares/ROMTech/main/data/day1_consultation15_doctor.wav\n",
      "Transcribing: https://raw.githubusercontent.com/raquelcolares/ROMTech/main/data/day1_consultation15_patient.wav\n",
      "Transcribing: https://raw.githubusercontent.com/raquelcolares/ROMTech/main/data/day2_consultation01_doctor.wav\n",
      "Transcribing: https://raw.githubusercontent.com/raquelcolares/ROMTech/main/data/day2_consultation01_patient.wav\n",
      "Transcribing: https://raw.githubusercontent.com/raquelcolares/ROMTech/main/data/day2_consultation02_doctor.wav\n",
      "Transcribing: https://raw.githubusercontent.com/raquelcolares/ROMTech/main/data/day2_consultation02_patient.wav\n",
      "Transcribing: https://raw.githubusercontent.com/raquelcolares/ROMTech/main/data/day2_consultation03_doctor.wav\n",
      "Transcribing: https://raw.githubusercontent.com/raquelcolares/ROMTech/main/data/day2_consultation03_patient.wav\n",
      "Transcribing: https://raw.githubusercontent.com/raquelcolares/ROMTech/main/data/day2_consultation04_doctor.wav\n",
      "Transcribing: https://raw.githubusercontent.com/raquelcolares/ROMTech/main/data/day2_consultation04_patient.wav\n",
      "Transcribing: https://raw.githubusercontent.com/raquelcolares/ROMTech/main/data/day2_consultation05_doctor.wav\n",
      "Transcribing: https://raw.githubusercontent.com/raquelcolares/ROMTech/main/data/day2_consultation05_patient.wav\n",
      "Transcribing: https://raw.githubusercontent.com/raquelcolares/ROMTech/main/data/day2_consultation06_doctor.wav\n",
      "Transcribing: https://raw.githubusercontent.com/raquelcolares/ROMTech/main/data/day2_consultation06_patient.wav\n",
      "Transcribing: https://raw.githubusercontent.com/raquelcolares/ROMTech/main/data/day2_consultation07_doctor.wav\n",
      "Transcribing: https://raw.githubusercontent.com/raquelcolares/ROMTech/main/data/day2_consultation07_patient.wav\n",
      "Transcribing: https://raw.githubusercontent.com/raquelcolares/ROMTech/main/data/day2_consultation08_doctor.wav\n",
      "Transcribing: https://raw.githubusercontent.com/raquelcolares/ROMTech/main/data/day2_consultation08_patient.wav\n",
      "Transcribing: https://raw.githubusercontent.com/raquelcolares/ROMTech/main/data/day2_consultation09_doctor.wav\n",
      "Transcribing: https://raw.githubusercontent.com/raquelcolares/ROMTech/main/data/day2_consultation09_patient.wav\n",
      "Transcribing: https://raw.githubusercontent.com/raquelcolares/ROMTech/main/data/day2_consultation10_doctor.wav\n",
      "Transcribing: https://raw.githubusercontent.com/raquelcolares/ROMTech/main/data/day2_consultation10_patient.wav\n",
      "Transcribing: https://raw.githubusercontent.com/raquelcolares/ROMTech/main/data/day3_consultation01_doctor.wav\n",
      "Transcribing: https://raw.githubusercontent.com/raquelcolares/ROMTech/main/data/day3_consultation01_patient.wav\n",
      "Transcribing: https://raw.githubusercontent.com/raquelcolares/ROMTech/main/data/day3_consultation02_doctor.wav\n",
      "Transcribing: https://raw.githubusercontent.com/raquelcolares/ROMTech/main/data/day3_consultation02_patient.wav\n",
      "Transcribing: https://raw.githubusercontent.com/raquelcolares/ROMTech/main/data/day3_consultation03_doctor.wav\n",
      "Transcribing: https://raw.githubusercontent.com/raquelcolares/ROMTech/main/data/day3_consultation03_patient.wav\n",
      "Transcribing: https://raw.githubusercontent.com/raquelcolares/ROMTech/main/data/day3_consultation04_doctor.wav\n",
      "Transcribing: https://raw.githubusercontent.com/raquelcolares/ROMTech/main/data/day3_consultation04_patient.wav\n",
      "Transcribing: https://raw.githubusercontent.com/raquelcolares/ROMTech/main/data/day3_consultation05_doctor.wav\n",
      "Transcribing: https://raw.githubusercontent.com/raquelcolares/ROMTech/main/data/day3_consultation05_patient.wav\n",
      "Transcribing: https://raw.githubusercontent.com/raquelcolares/ROMTech/main/data/day3_consultation06_doctor.wav\n",
      "Transcribing: https://raw.githubusercontent.com/raquelcolares/ROMTech/main/data/day3_consultation06_patient.wav\n",
      "Transcribing: https://raw.githubusercontent.com/raquelcolares/ROMTech/main/data/day3_consultation07_doctor.wav\n",
      "Transcribing: https://raw.githubusercontent.com/raquelcolares/ROMTech/main/data/day3_consultation07_patient.wav\n",
      "Transcribing: https://raw.githubusercontent.com/raquelcolares/ROMTech/main/data/day3_consultation08_doctor.wav\n",
      "Transcribing: https://raw.githubusercontent.com/raquelcolares/ROMTech/main/data/day3_consultation08_patient.wav\n",
      "Transcribing: https://raw.githubusercontent.com/raquelcolares/ROMTech/main/data/day3_consultation09_doctor.wav\n",
      "Transcribing: https://raw.githubusercontent.com/raquelcolares/ROMTech/main/data/day3_consultation09_patient.wav\n",
      "Transcribing: https://raw.githubusercontent.com/raquelcolares/ROMTech/main/data/day3_consultation10_doctor.wav\n",
      "Transcribing: https://raw.githubusercontent.com/raquelcolares/ROMTech/main/data/day3_consultation10_patient.wav\n",
      "Transcribing: https://raw.githubusercontent.com/raquelcolares/ROMTech/main/data/day4_consultation01_doctor.wav\n",
      "Transcribing: https://raw.githubusercontent.com/raquelcolares/ROMTech/main/data/day4_consultation01_patient.wav\n",
      "Transcribing: https://raw.githubusercontent.com/raquelcolares/ROMTech/main/data/day4_consultation02_doctor.wav\n",
      "Transcribing: https://raw.githubusercontent.com/raquelcolares/ROMTech/main/data/day4_consultation02_patient.wav\n",
      "Transcribing: https://raw.githubusercontent.com/raquelcolares/ROMTech/main/data/day4_consultation03_doctor.wav\n",
      "Transcribing: https://raw.githubusercontent.com/raquelcolares/ROMTech/main/data/day4_consultation03_patient.wav\n",
      "Transcribing: https://raw.githubusercontent.com/raquelcolares/ROMTech/main/data/day4_consultation04_doctor.wav\n",
      "Transcribing: https://raw.githubusercontent.com/raquelcolares/ROMTech/main/data/day4_consultation04_patient.wav\n",
      "Transcribing: https://raw.githubusercontent.com/raquelcolares/ROMTech/main/data/day4_consultation05_doctor.wav\n",
      "Transcribing: https://raw.githubusercontent.com/raquelcolares/ROMTech/main/data/day4_consultation05_patient.wav\n",
      "Transcribing: https://raw.githubusercontent.com/raquelcolares/ROMTech/main/data/day4_consultation06_doctor.wav\n",
      "Transcribing: https://raw.githubusercontent.com/raquelcolares/ROMTech/main/data/day4_consultation06_patient.wav\n",
      "Transcribing: https://raw.githubusercontent.com/raquelcolares/ROMTech/main/data/day4_consultation07_doctor.wav\n",
      "Transcribing: https://raw.githubusercontent.com/raquelcolares/ROMTech/main/data/day4_consultation07_patient.wav\n",
      "Transcribing: https://raw.githubusercontent.com/raquelcolares/ROMTech/main/data/day4_consultation08_doctor.wav\n",
      "Transcribing: https://raw.githubusercontent.com/raquelcolares/ROMTech/main/data/day4_consultation08_patient.wav\n",
      "Transcribing: https://raw.githubusercontent.com/raquelcolares/ROMTech/main/data/day4_consultation09_doctor.wav\n",
      "Transcribing: https://raw.githubusercontent.com/raquelcolares/ROMTech/main/data/day4_consultation09_patient.wav\n",
      "Transcribing: https://raw.githubusercontent.com/raquelcolares/ROMTech/main/data/day4_consultation10_doctor.wav\n",
      "Transcribing: https://raw.githubusercontent.com/raquelcolares/ROMTech/main/data/day4_consultation10_patient.wav\n",
      "Transcribing: https://raw.githubusercontent.com/raquelcolares/ROMTech/main/data/day5_consultation01_doctor.wav\n",
      "Transcribing: https://raw.githubusercontent.com/raquelcolares/ROMTech/main/data/day5_consultation01_patient.wav\n",
      "Transcribing: https://raw.githubusercontent.com/raquelcolares/ROMTech/main/data/day5_consultation02_doctor.wav\n",
      "Transcribing: https://raw.githubusercontent.com/raquelcolares/ROMTech/main/data/day5_consultation02_patient.wav\n",
      "Transcribing: https://raw.githubusercontent.com/raquelcolares/ROMTech/main/data/day5_consultation03_doctor.wav\n",
      "Transcribing: https://raw.githubusercontent.com/raquelcolares/ROMTech/main/data/day5_consultation03_patient.wav\n",
      "Transcribing: https://raw.githubusercontent.com/raquelcolares/ROMTech/main/data/day5_consultation04_doctor.wav\n",
      "Transcribing: https://raw.githubusercontent.com/raquelcolares/ROMTech/main/data/day5_consultation04_patient.wav\n",
      "Transcribing: https://raw.githubusercontent.com/raquelcolares/ROMTech/main/data/day5_consultation05_doctor.wav\n",
      "Transcribing: https://raw.githubusercontent.com/raquelcolares/ROMTech/main/data/day5_consultation05_patient.wav\n",
      "Transcribing: https://raw.githubusercontent.com/raquelcolares/ROMTech/main/data/day5_consultation06_doctor.wav\n",
      "Transcribing: https://raw.githubusercontent.com/raquelcolares/ROMTech/main/data/day5_consultation06_patient.wav\n",
      "Transcribing: https://raw.githubusercontent.com/raquelcolares/ROMTech/main/data/day5_consultation07_doctor.wav\n",
      "Transcribing: https://raw.githubusercontent.com/raquelcolares/ROMTech/main/data/day5_consultation07_patient.wav\n",
      "Transcribing: https://raw.githubusercontent.com/raquelcolares/ROMTech/main/data/day5_consultation08_doctor.wav\n",
      "Transcribing: https://raw.githubusercontent.com/raquelcolares/ROMTech/main/data/day5_consultation08_patient.wav\n",
      "Transcribing: https://raw.githubusercontent.com/raquelcolares/ROMTech/main/data/day5_consultation09_doctor.wav\n",
      "Transcribing: https://raw.githubusercontent.com/raquelcolares/ROMTech/main/data/day5_consultation09_patient.wav\n",
      "Transcribing: https://raw.githubusercontent.com/raquelcolares/ROMTech/main/data/day5_consultation10_doctor.wav\n",
      "Transcribing: https://raw.githubusercontent.com/raquelcolares/ROMTech/main/data/day5_consultation10_patient.wav\n",
      "Transcribing: https://raw.githubusercontent.com/raquelcolares/ROMTech/main/data/day5_consultation11_doctor.wav\n",
      "Transcribing: https://raw.githubusercontent.com/raquelcolares/ROMTech/main/data/day5_consultation11_patient.wav\n",
      "Transcribing: https://raw.githubusercontent.com/raquelcolares/ROMTech/main/data/day5_consultation12_doctor.wav\n",
      "Transcribing: https://raw.githubusercontent.com/raquelcolares/ROMTech/main/data/day5_consultation12_patient.wav\n",
      "\n",
      "------ Training the Autoencoder Summarization model ------\n",
      "Epoch [1/50], Loss: 0.3912, Cosine Similarity: 0.6043\n",
      "Epoch [2/50], Loss: 0.1345, Cosine Similarity: 0.8654\n",
      "Epoch [3/50], Loss: 0.0783, Cosine Similarity: 0.9212\n",
      "Epoch [4/50], Loss: 0.0549, Cosine Similarity: 0.9447\n",
      "Epoch [5/50], Loss: 0.0429, Cosine Similarity: 0.9568\n",
      "Epoch [6/50], Loss: 0.0359, Cosine Similarity: 0.9639\n",
      "Epoch [7/50], Loss: 0.0313, Cosine Similarity: 0.9685\n",
      "Epoch [8/50], Loss: 0.0287, Cosine Similarity: 0.9713\n",
      "Epoch [9/50], Loss: 0.0270, Cosine Similarity: 0.9728\n",
      "Epoch [10/50], Loss: 0.0252, Cosine Similarity: 0.9747\n",
      "Epoch [11/50], Loss: 0.0241, Cosine Similarity: 0.9757\n",
      "Epoch [12/50], Loss: 0.0230, Cosine Similarity: 0.9768\n",
      "Epoch [13/50], Loss: 0.0224, Cosine Similarity: 0.9774\n",
      "Epoch [14/50], Loss: 0.0219, Cosine Similarity: 0.9779\n",
      "Epoch [15/50], Loss: 0.0215, Cosine Similarity: 0.9782\n",
      "Epoch [16/50], Loss: 0.0211, Cosine Similarity: 0.9786\n",
      "Epoch [17/50], Loss: 0.0208, Cosine Similarity: 0.9789\n",
      "Epoch [18/50], Loss: 0.0205, Cosine Similarity: 0.9792\n",
      "Epoch [19/50], Loss: 0.0202, Cosine Similarity: 0.9794\n",
      "Epoch [20/50], Loss: 0.0200, Cosine Similarity: 0.9796\n",
      "Epoch [21/50], Loss: 0.0199, Cosine Similarity: 0.9798\n",
      "Epoch [22/50], Loss: 0.0197, Cosine Similarity: 0.9799\n",
      "Epoch [23/50], Loss: 0.0197, Cosine Similarity: 0.9799\n",
      "Epoch [24/50], Loss: 0.0195, Cosine Similarity: 0.9801\n",
      "Epoch [25/50], Loss: 0.0194, Cosine Similarity: 0.9802\n",
      "Epoch [26/50], Loss: 0.0193, Cosine Similarity: 0.9804\n",
      "Epoch [27/50], Loss: 0.0192, Cosine Similarity: 0.9805\n",
      "Epoch [28/50], Loss: 0.0190, Cosine Similarity: 0.9806\n",
      "Epoch [29/50], Loss: 0.0189, Cosine Similarity: 0.9807\n",
      "Epoch [30/50], Loss: 0.0189, Cosine Similarity: 0.9807\n",
      "Epoch [31/50], Loss: 0.0188, Cosine Similarity: 0.9808\n",
      "Epoch [32/50], Loss: 0.0187, Cosine Similarity: 0.9808\n",
      "Epoch [33/50], Loss: 0.0187, Cosine Similarity: 0.9809\n",
      "Epoch [34/50], Loss: 0.0186, Cosine Similarity: 0.9810\n",
      "Epoch [35/50], Loss: 0.0186, Cosine Similarity: 0.9810\n",
      "Epoch [36/50], Loss: 0.0185, Cosine Similarity: 0.9811\n",
      "Epoch [37/50], Loss: 0.0185, Cosine Similarity: 0.9811\n",
      "Epoch [38/50], Loss: 0.0184, Cosine Similarity: 0.9812\n",
      "Epoch [39/50], Loss: 0.0184, Cosine Similarity: 0.9812\n",
      "Epoch [40/50], Loss: 0.0185, Cosine Similarity: 0.9811\n",
      "Epoch [41/50], Loss: 0.0185, Cosine Similarity: 0.9812\n",
      "Epoch [42/50], Loss: 0.0184, Cosine Similarity: 0.9812\n",
      "Epoch [43/50], Loss: 0.0184, Cosine Similarity: 0.9812\n",
      "Epoch [44/50], Loss: 0.0183, Cosine Similarity: 0.9813\n",
      "Epoch [45/50], Loss: 0.0182, Cosine Similarity: 0.9814\n",
      "Epoch [46/50], Loss: 0.0182, Cosine Similarity: 0.9814\n",
      "Epoch [47/50], Loss: 0.0182, Cosine Similarity: 0.9814\n",
      "Epoch [48/50], Loss: 0.0183, Cosine Similarity: 0.9814\n",
      "Epoch [49/50], Loss: 0.0183, Cosine Similarity: 0.9814\n",
      "Epoch [50/50], Loss: 0.0182, Cosine Similarity: 0.9814\n"
     ]
    },
    {
     "data": {
      "image/png": "[encoded data removed]",
      "text/plain": [
       "<Figure size 1200x500 with 2 Axes>"
      ]
     },
     "metadata": {},
     "output_type": "display_data"
    },
    {
     "name": "stdout",
     "output_type": "stream",
     "text": [
      "Autoencoder model saved as 'autoencoder.pt'.\n",
      "\n",
      "----- Transcriptions and Summaries ------\n",
      "\n",
      "Transcript (1):  Hello. Hi. Shall we just stop? Yeah. Okay. Hello. The morning's a hug. I'll help you this morning. Sorry to hear that. And when you say diuret, what do you mean by diuret? I'm sorry. I'm sorry. I'm sorry. I'm sorry. I'm sorry. I'm sorry. I'm sorry. I'm sorry. I'm sorry. I'm sorry. I'm sorry. I'm sorry. I'm sorry. I'm sorry. I'm sorry. Okay. Okay. Okay. Okay. Okay. Are you going to say in the last couple of days? Six, seven times a day. Are you going to say in the last couple of days? Six, seven times a day. And you mentioned to those who have lately, have you noticed any other things like blood in your stools? I hope you know another thing. Okay, and you mentioned you've had some pain in your tummy as well. Where about is the pain? Is that clear? One side, what side is that? That side, okay. Then can you describe the pain to me? Okay, and is it there all the time or does it come and go? Does it pain move anywhere else? For example, towards your back? Okay, fine. And you mentioned you've been feeling quite weak and shaky as well. Would you be feeling less shaky? Do you mean you've been feeling feverish, for example? Okay. Do you measure your temperature then? Okay, okay. Any other symptoms like sweating or... No. And any vomiting at all? You stop vomiting, okay. And was your vomit? I know it's not nice we've talked about, but was it just normal food colour? Yeah, and there was no blood in your vomit, is that right? No, okay. And any other symptoms at all? You mentioned tummy pain, you mentioned diarrhea, you mentioned your vomiting. Anything else that comes to mind? Okay. Okay, so you're drinking fluids. What kind of foods have you managed to eat? Anything? Okay, fine. And so, these started just three days ago to symptoms. Are you aware of any triggers which may have caused your symptoms to kick on? So, for example, things like takeaway foods or eating out or being around other people who would sing the symptoms? Thank you. Do you remember where you ate? Okay. Anyone else on well with similar symptoms? Okay, fine. Right. And in terms of your overall health, are you normally facing well or... Okay. And did you ask them a welcome troll? Right. And you don't have any other tummy problem, bowel problem, that should be aware of. No. Okay. And pardon the inhalers, do you take any other medications? Okay. Fine. And in terms of your day to day life, you said it's been affecting your life. In what way has it been affecting your life? Okay. Yeah. And are you currently working at the moment? Will you work? Okay. Have you been going into work last three days? Are you going to home? Okay. That must be difficult for you then. Right. And you said you mentioned you live with a wife and two children, is that right? All right. And just a couple of other questions we need to ask. Do you smoke at all? And you drink much in a way of alcohol? Okay. So normally at this stage, I like to examine you as I can. But haven't listened to your stories. I think just to recap, for the last three days, I'm having a loose stool diarrhea, a bit of tummy pain, mainly on the left hand side, vomiting and feeling, you know, quite weak and ethargic. You mentioned you haven't just tried to take away as well, three days ago. And I wonder whether that might be the cause of your problems. It seems like you may have something called gastroenteritis, which essentially is the tummy bug or infection of your tummy. Mainly caused by viruses, but it can be a possibility of bacteria causing it. At this stage, what we'd recommend is just what we say conservative management. So I don't think you need any anti-barges. It's really just making sure you're well hydrated, so drinking fluids. There are things like, diorolite you can get from the pharmacy, which it helps replenish some of your minerals and vitamins. And if you are having vomiting and diarrhea, I would recommend that first couple of days. If you are feeling feverish and weak, taking some paracetamol, a few tablets up to four times a day for the first few days can also help. I was certainly going to advise you to take some time to work, actually. I know you're quite keen to work. I would say next two to three days, as it chinkly is from your system, takes some time off and rest. If your symptoms haven't got better in three to four days, I'll write it back in senior again. Because if it is ongoing, then we have to wonder whether there's something else called these symptoms. And we may need to do further tinnus, like taking a sample of your stool, so we can test that, etc. How does that sound? Do you have any questions for me? Is the treatment plan clear? Great, I wish you all the best. Thank you. Bye-bye.\n",
      "Summary (1): Okay Okay Okay Okay Okay Okay No Okay Okay Yeah\n",
      "\n",
      "Transcript (2):  Hello. I just had some diaries for the last three days. And it's been affecting me. I need to stay close to the toilet. And yeah, it's been affecting my day to day activities. Yeah, so it's like loose and watery stall going to the toilet quite often. And like some pain in my like lower stomach. Like six, seven times a day. No, no blood. Yeah, just watery and loose stall. Yeah. So in my lower abdomen. So like, yeah, just to one side. On the left side. Yeah, it feels like a cramp, like a muscular cramp. And yeah, I feel a bit weak and shaky. Comes and goes. No, just mainly my stomach. Yeah, it doesn't feel like, yeah, I just made it feel weak. I haven't had a fever at the moment, but I did notice a temperature when the symptoms started. So around about three or four days ago. Yeah, I didn't mention my temperature, no, but I felt just a bit hot. No. Yeah, so I vomited at the start of the symptoms, but now I've stopped vomiting. Yeah, just a little vomit. No, no. Yeah, I had a loss of appetite. So I haven't been eating as much, but I've been able to hold down fluids. Yeah. I'm just suites and, yeah, light foods, like smoothies and, yeah, liquid foods mainly. Yeah, so I had to take away about four days ago, but other than that, I've been eating normally. Nothing unusual, yeah. Yeah, I write to the Chinese restaurant with friends. So no one else in the family, so I've wife and two kids and one child was vomiting, but they haven't got the area. There's no one with the same symptoms. Yeah, I mean, other than asthma, I'm using inhaler, everything else is fine. Yeah, that's fine. Just use an inhaler and that's under control. No. No, no other medications. Yeah. So I need to stay close to the toilet because I go quite frequently during these past three days. Yeah, other than that, it's the main concern. Yeah, I work. I'm in the cabsons. Yeah, I've been going to work. Yeah, it's been quite difficult. Yes, yeah. No, I don't smoke. No, I don't drink alcohol though. Yeah. Okay. Okay. Yeah. Yeah. Okay. Yeah. Yeah. Yeah. Yeah. Okay. Yeah. Yeah, sure. That sounds great. No, no further questions. Yeah, yeah, that's very clear. Thank you. Okay. Thank you. Bye.\n",
      "Summary (2): Yeah Yeah Yeah Okay Okay Okay Yeah Okay Yeah Okay\n",
      "\n",
      "Transcript (3):  Hello. Yes, I think it's a bit better. It's a bit, it's not very clear, but let's continue anyway. Okay, let's start again. So how can I help you, sir? Okay. No, no problem. I'm happy to help. Whereabouts of your skin is affected? Yeah. No, no, okay. I understand this is obviously affecting you and we'll try our very best to get us sorted out for you. Have you had anything that has been formed past? Okay. Okay. Did it help? Okay. Do you remember the name of the creamy board? Okay. Would you say these symptoms are very similar to your X-ma symptoms or different? Okay. No, well, okay. So you mentioned itchiness. You also mentioned it's been quite sore. Have you noticed any bleeding or discharge from your skin? Okay. You know, amnesty or any other past or blood coming out of your skin? No. And you mentioned it all started three days ago. Are you bored as a girl? Are you aware of any triggers? Anything that you may have done that may have caused your symptoms to start? So, for example, maybe change your shower gel and your clothing? Have you been around anyone else? No, no. Okay. That's okay. Fine. So just to summarize, for the last four days you've had very itchy skin, very sore skin, all over your body, mainly your chest, and did you also mention your arms and legs as well? Okay. Any one thing on your face at all? No. Okay. And apart from this, any other symptoms have you noticed? For example, have you noticed any temperature or fevers? Okay. So your bowels are working okay. Your chest is okay. No cough, no breathing difficulties. You're passing urine okay? Okay. Alright. It's always good to know. So, I mean, do you have any ideas as to what could be causing your symptoms? Any ideas as to what could be causing your symptoms? Okay. No, it's okay. So normally at this stage, I like to examine you to see the rash yourself and see exactly what type of rash it is. But from what you've told me, you mentioned it's you've got some dry skin and some cracked skin as well, and it's been very itchy. And so with your, your back kind of ex-mouth, sorry, there's a couple of questions I want to ask you, which I've completely forgot my apologies. Apart from the ex-mouth, do you have any other medical problems? I should be aware of. Okay. Not anymore. Okay. And do you take any regular medications at the moment? No. Okay. Do you have any allergies to anything? Sorry, I'm going to give you allergies. Hello? Oh, can you hear me? Is there anything you... Do you have any allergies at all? No. Okay. And tell me about your situation at home. Who do you live with? Okay. Okay. And what do you do for work? Okay. No, no, no, that's absolutely fine. Just a couple of questions I want to ask you, which can in some sort of a factor of symptoms, is do you smoke at all? No. And do you drink much in a way alcohol? Okay. Okay. I've got to say at this date, I've got to say that the sound quality is not great, but I will continue because we've come this far. So based on everything you mentioned, I do wonder whether this is a flare-up of your ex-mouth. The reason being that you said it's quite itchy, it's many effecting your chest and your back. And having looked at your skin, the rash does pick quite familiar. You mentioned using sterile creams yesterday, from the pharmacy. I wonder whether giving you stronger prescription of a steroid may be beneficial, which I'm happy to prescribe to you today, as well as giving you some amolients, which helps moisturise the skin, which you can use in the bath and shower. And it's definitely worth using that for the first seven to ten days before we make a decision on whether it's working or not. It's also worth using anti-histamines, which you can sometimes buy over counter, things like lyracidine or pyrritan, which can help with the itchiness of your skin. And it's also worth keeping a diary of any triggers, which are affecting your symptoms, anything you wear or anything you use in terms of shower gels or soap, because if that's causing your symptoms, then we need to have a discussion about our next summer CE. Oh, could you say again, sorry? Okay. I don't know. Okay. So there's something for you to think about. You can get different type of antisystemines. I can give you something a little bit stronger today, as well. Something like fix a phenidine, which I can give to you today. It's definitely worth trying, it's not going to be a new home, but I say anything using the steroids and the amolients on a regular basis. I would next week to 10 days should hopefully control your symptoms, but do come back and see me next week if things don't get better. Okay. Do you have any questions for me? Okay, well I wish you all the best. Okay, have a good day.\n",
      "Summary (3): Okay Okay Okay Okay Okay Okay Okay Okay Okay Okay\n",
      "\n",
      "Transcript (4):  Hello, can you hear me well? Okay. Yes, so it's been a few days now. I have like a sore and a red skin. It's kind of, it's really itchy and it's like super annoying. So I'd like to find something quick to solve it. Mostly like my chest, my hands, my arms, like, like, really, it's super annoying. Like, it's teaching a lot, like all the time. And I can't even sleep at night. Like, I really need something quickly to solve it. Because even at work, when I'm in the meeting and I have to think about my work and focus, like, actually, focus on my work, it's really annoying because I can't actually think about what I have to say. I'm always like disturbing by this disease. And so, yes, earlier I was like prescribed for my exam. I was like, I was like, I was like, I'm cream and something to, when I was in the shower, I had to put something. And I mean, at that time, yes, that's the symptoms. Like, when these symptoms appeared again, I tried those and it didn't work. I've tried a few things. I bought like a spirit cream at the pharmacy last night, but it apparently didn't help because it's still teaching a lot today. Yeah. A spirit cream. It's much more like itchy and my exam was more like only in the arm. And now it's also on the chest and on the hands as well. Like, yeah, I like, for instance, hiking during the weekends. And I can't really do it anymore because it's like very, like, I wanted to do that last weekend and it was super painful. And I can't have to take like showers every day to be able to kind of ease this teaching path, which is very, very annoying. Yeah. Okay. So my skin is a bit cracked in some parts, like kind of cracked if you see what I mean, but yeah. No. No, it's actually like it's really annoying because I'm thinking about baby. I should change something because I haven't and I don't understand that I'm kind of afraid of asking people around me because it's kind of, you know, I don't feel really comfortable asking about this question. It's kind of intimate and so I will do your hair now. And no, just the chest, hands and like, like inside the airbows. In my what? Or on my face? No. No, just very cheap. Nothing else. No. I think so. Any what? And so I had the exam before. So maybe it's this, but it seems like more like my exam was only on the arm. So I'm not sure I really have no idea. Yeah. No, I just had asthma in the past, but not anymore. No. I like. Sorry. Hello. Yes. Oh, allergies. No. I live with a few flatmates. So you know, I'm 31. I have a full time job and so I'm living with a few people to save money. I work at a pharmaceutical company. So it's been a few years now. I'm a kind of interesting. We're working. I'm like a kind of project manager. I mean, do you want to know more about it? No. I know what once in a while. I can I like hanging out with people once in a while. So yeah, I'd say a few a few beers, a week, something exists, nothing, nothing crazy. I used to drink a lot more when I was younger, but it's been. Yeah. Yeah. Yeah. Okay. Okay. Okay. Okay. Okay. Just I have tried anti-fistamins lately, but it didn't really help. I have tried the anti-fistamins, but it didn't really help. Okay. That sounds good. No, that's it. Thank you very much. Bye. Thank you. Bye.\n",
      "Summary (4): Okay Yeah Yes Yeah Okay Okay Okay Okay Okay Okay\n",
      "\n",
      "Transcript (5):  Hello, it's Dr. C here. How can I help you this afternoon? I'm sorry to hear this. Can you tell me more about the headache? Okay. Let's try best. Let's try and get you well soon. You mentioned this on your left hand side. It started a midday a few hours ago. Did the pain come in quite suddenly? Was it more of a gradual buildup? Are you able to describe what kind of headache it was? Is it more of a sharp pain? Is it moving anywhere else at all? Is that when you move your neck? Is that what your main worry is today? I'm sorry to hear that. I can understand why it's affecting you. You mentioned a few things. You mentioned the headaches. Is that on both eyes or left eye? Have you seen bright lights? Have you seen it? Are you having any other funny skin rash that you may have noticed? Do you know me? What happened then? I don't know. I can see your concerns. I'm asking you some questions. Do you have any injuries to your head? Do you have any other medical history? I don't know. I don't know. I have a question. Do you have any injuries? Do you have any injuries? I don't know. I have a very classical of that. I hope that you have any injuries. I think moving forward is a couple of options. I hope that you have any injuries. If your symptoms aren't getting better in the next two or three days, please give me a hand.\n",
      "Summary (5):  Hello, it's Dr How can I help you this afternoon? I'm sorry to hear this Can you tell me more about the headache? Okay It started a midday a few hours ago Is that on both eyes or left eye? Have you seen bright lights? Have you seen it? Are you having any other funny skin rash that you may have noticed? Do you know me? What happened then? I don't know Do you have any injuries to your head? Do you have any other medical history? I don't know I don't know I hope that you have any injuries I hope that you have any injuries If your symptoms aren't getting better in the next two or three days, please give me a hand.\n"
     ]
    }
   ],
   "source": [
    "# Main function for the transcription and summarization process\n",
    "def main():\n",
    "    print(\"\\n------ Transcribing the audio files of Github ------\")\n",
    "    transcriptions = transcribe_all_from_github()\n",
    "\n",
    "    print(\"\\n------ Training the Autoencoder Summarization model ------\")\n",
    "    autoencoder = Autoencoder()\n",
    "    criterion = nn.MSELoss()\n",
    "    optimizer = optim.Adam(autoencoder.parameters(), lr=0.001)\n",
    "    num_epochs = 50\n",
    "    autoencoder = train_autoencoder(transcriptions, num_epochs, criterion, optimizer, autoencoder)\n",
    "\n",
    "    print(\"\\n----- Transcriptions and Summaries ------\")\n",
    "    # Printing a few transcriptions and summaries for analysis\n",
    "    for i, transcription in enumerate(transcriptions[:5]):\n",
    "        summary = summarize_text(transcription, autoencoder)\n",
    "        print(f\"\\nTranscript ({i+1}): {transcription}\")\n",
    "        print(f\"Summary ({i+1}): {summary}\")\n",
    "\n",
    "if __name__ == \"__main__\":\n",
    "    main()"
   ]
  },
  {
   "cell_type": "markdown",
   "metadata": {
    "id": "JEI0ZJeMKCQf"
   },
   "source": [
    "### BERT model"
   ]
  },
  {
   "cell_type": "code",
   "execution_count": 10,
   "metadata": {},
   "outputs": [
    {
     "data": {
      "application/vnd.jupyter.widget-view+json": {
       "model_id": "d2a50007d2914cd9944fe6e678b2af06",
       "version_major": 2,
       "version_minor": 0
      },
      "text/plain": [
       "tokenizer_config.json:   0%|          | 0.00/48.0 [00:00<?, ?B/s]"
      ]
     },
     "metadata": {},
     "output_type": "display_data"
    },
    {
     "data": {
      "application/vnd.jupyter.widget-view+json": {
       "model_id": "f448f2045d3d4ae88635ca749975b1e4",
       "version_major": 2,
       "version_minor": 0
      },
      "text/plain": [
       "vocab.txt:   0%|          | 0.00/232k [00:00<?, ?B/s]"
      ]
     },
     "metadata": {},
     "output_type": "display_data"
    },
    {
     "data": {
      "application/vnd.jupyter.widget-view+json": {
       "model_id": "f62aac7ea32842e4a6a5e88511591867",
       "version_major": 2,
       "version_minor": 0
      },
      "text/plain": [
       "tokenizer.json:   0%|          | 0.00/466k [00:00<?, ?B/s]"
      ]
     },
     "metadata": {},
     "output_type": "display_data"
    },
    {
     "data": {
      "application/vnd.jupyter.widget-view+json": {
       "model_id": "9235623374684c159f3dd55d7cef8165",
       "version_major": 2,
       "version_minor": 0
      },
      "text/plain": [
       "config.json:   0%|          | 0.00/570 [00:00<?, ?B/s]"
      ]
     },
     "metadata": {},
     "output_type": "display_data"
    },
    {
     "name": "stderr",
     "output_type": "stream",
     "text": [
      "Xet Storage is enabled for this repo, but the 'hf_xet' package is not installed. Falling back to regular HTTP download. For better performance, install the package with: `pip install huggingface_hub[hf_xet]` or `pip install hf_xet`\n",
      "WARNING:huggingface_hub.file_download:Xet Storage is enabled for this repo, but the 'hf_xet' package is not installed. Falling back to regular HTTP download. For better performance, install the package with: `pip install huggingface_hub[hf_xet]` or `pip install hf_xet`\n"
     ]
    },
    {
     "data": {
      "application/vnd.jupyter.widget-view+json": {
       "model_id": "560c461f0ccd448eac2cb6e1e4bb598a",
       "version_major": 2,
       "version_minor": 0
      },
      "text/plain": [
       "model.safetensors:   0%|          | 0.00/440M [00:00<?, ?B/s]"
      ]
     },
     "metadata": {},
     "output_type": "display_data"
    }
   ],
   "source": [
    "# Loading and defining the Bert model\n",
    "def load_bert_model():\n",
    "    tokenizer = BertTokenizer.from_pretrained(\"bert-base-uncased\")\n",
    "    model = BertModel.from_pretrained(\"bert-base-uncased\")\n",
    "    model.eval()\n",
    "    return tokenizer, model\n",
    "\n",
    "tokenizer, bert_model = load_bert_model()"
   ]
  },
  {
   "cell_type": "code",
   "execution_count": 11,
   "metadata": {},
   "outputs": [],
   "source": [
    "# Getting the sentence embedding from BERT\n",
    "def get_sentence_embedding(sentence):\n",
    "    inputs = tokenizer(sentence, return_tensors=\"pt\", truncation=True, padding=True)\n",
    "    with torch.no_grad():\n",
    "        outputs = bert_model(**inputs)\n",
    "    # Using the CLS token (classification token) embedding as the sentence representation\n",
    "    cls_embedding = outputs.last_hidden_state[:, 0, :]\n",
    "    return cls_embedding.squeeze().numpy()"
   ]
  },
  {
   "cell_type": "code",
   "execution_count": 12,
   "metadata": {},
   "outputs": [],
   "source": [
    "# Summarizing the transcription using BERT\n",
    "def summarize_with_bert(transcription, summary_length=5, plot=False):\n",
    "    sentences = transcription.split(\". \")\n",
    "    if len(sentences) <= summary_length:\n",
    "        return transcription\n",
    "\n",
    "    sentence_embeddings = [get_sentence_embedding(sent) for sent in sentences]\n",
    "    sentence_embeddings = np.stack(sentence_embeddings)\n",
    "\n",
    "    document_embedding = np.mean(sentence_embeddings, axis=0)\n",
    "    # Compute cosine similarity to each sentence\n",
    "    similarities = cosine_similarity([document_embedding], sentence_embeddings)[0]\n",
    "    # Getting the most representative sentences\n",
    "    top_indices = similarities.argsort()[-summary_length:][::-1]\n",
    "    selected_sentences = [sentences[i] for i in sorted(top_indices)]\n",
    "    # Plotting the Cosine Similarities\n",
    "    if plot:\n",
    "        plt.figure(figsize=(10, 4))\n",
    "        plt.plot(range(len(similarities)), similarities, label=\"Cosine Similarity\", color=\"green\")\n",
    "        plt.title(\"Cosine Similarity\")\n",
    "        plt.xlabel(\"Sentence Index\")\n",
    "        plt.ylabel(\"Cosine Similarity\")\n",
    "        plt.show()\n",
    "\n",
    "    return \". \".join(selected_sentences), similarities.mean()"
   ]
  },
  {
   "cell_type": "code",
   "execution_count": 15,
   "metadata": {},
   "outputs": [
    {
     "name": "stdout",
     "output_type": "stream",
     "text": [
      "\n",
      "------ Transcribing the audio files of Github ------\n",
      "Transcribing: https://raw.githubusercontent.com/raquelcolares/ROMTech/main/data/day1_consultation01_doctor.wav\n",
      "Transcribing: https://raw.githubusercontent.com/raquelcolares/ROMTech/main/data/day1_consultation01_patient.wav\n",
      "Transcribing: https://raw.githubusercontent.com/raquelcolares/ROMTech/main/data/day1_consultation02_doctor.wav\n",
      "Transcribing: https://raw.githubusercontent.com/raquelcolares/ROMTech/main/data/day1_consultation02_patient.wav\n",
      "Transcribing: https://raw.githubusercontent.com/raquelcolares/ROMTech/main/data/day1_consultation03_doctor.wav\n",
      "Transcribing: https://raw.githubusercontent.com/raquelcolares/ROMTech/main/data/day1_consultation03_patient.wav\n",
      "Transcribing: https://raw.githubusercontent.com/raquelcolares/ROMTech/main/data/day1_consultation04_doctor.wav\n",
      "Transcribing: https://raw.githubusercontent.com/raquelcolares/ROMTech/main/data/day1_consultation04_patient.wav\n",
      "Transcribing: https://raw.githubusercontent.com/raquelcolares/ROMTech/main/data/day1_consultation05_doctor.wav\n",
      "Transcribing: https://raw.githubusercontent.com/raquelcolares/ROMTech/main/data/day1_consultation05_patient.wav\n",
      "Transcribing: https://raw.githubusercontent.com/raquelcolares/ROMTech/main/data/day1_consultation06_doctor.wav\n",
      "Transcribing: https://raw.githubusercontent.com/raquelcolares/ROMTech/main/data/day1_consultation06_patient.wav\n",
      "Transcribing: https://raw.githubusercontent.com/raquelcolares/ROMTech/main/data/day1_consultation07_doctor.wav\n",
      "Transcribing: https://raw.githubusercontent.com/raquelcolares/ROMTech/main/data/day1_consultation07_patient.wav\n",
      "Transcribing: https://raw.githubusercontent.com/raquelcolares/ROMTech/main/data/day1_consultation08_doctor.wav\n",
      "Transcribing: https://raw.githubusercontent.com/raquelcolares/ROMTech/main/data/day1_consultation08_patient.wav\n",
      "Transcribing: https://raw.githubusercontent.com/raquelcolares/ROMTech/main/data/day1_consultation09_doctor.wav\n",
      "Transcribing: https://raw.githubusercontent.com/raquelcolares/ROMTech/main/data/day1_consultation09_patient.wav\n",
      "Transcribing: https://raw.githubusercontent.com/raquelcolares/ROMTech/main/data/day1_consultation10_doctor.wav\n",
      "Transcribing: https://raw.githubusercontent.com/raquelcolares/ROMTech/main/data/day1_consultation10_patient.wav\n",
      "Transcribing: https://raw.githubusercontent.com/raquelcolares/ROMTech/main/data/day1_consultation11_doctor.wav\n",
      "Transcribing: https://raw.githubusercontent.com/raquelcolares/ROMTech/main/data/day1_consultation11_patient.wav\n",
      "Transcribing: https://raw.githubusercontent.com/raquelcolares/ROMTech/main/data/day1_consultation12_doctor.wav\n",
      "Transcribing: https://raw.githubusercontent.com/raquelcolares/ROMTech/main/data/day1_consultation12_patient.wav\n",
      "Transcribing: https://raw.githubusercontent.com/raquelcolares/ROMTech/main/data/day1_consultation13_doctor.wav\n",
      "Transcribing: https://raw.githubusercontent.com/raquelcolares/ROMTech/main/data/day1_consultation13_patient.wav\n",
      "Transcribing: https://raw.githubusercontent.com/raquelcolares/ROMTech/main/data/day1_consultation14_doctor.wav\n",
      "Transcribing: https://raw.githubusercontent.com/raquelcolares/ROMTech/main/data/day1_consultation14_patient.wav\n",
      "Transcribing: https://raw.githubusercontent.com/raquelcolares/ROMTech/main/data/day1_consultation15_doctor.wav\n",
      "Transcribing: https://raw.githubusercontent.com/raquelcolares/ROMTech/main/data/day1_consultation15_patient.wav\n",
      "Transcribing: https://raw.githubusercontent.com/raquelcolares/ROMTech/main/data/day2_consultation01_doctor.wav\n",
      "Transcribing: https://raw.githubusercontent.com/raquelcolares/ROMTech/main/data/day2_consultation01_patient.wav\n",
      "Transcribing: https://raw.githubusercontent.com/raquelcolares/ROMTech/main/data/day2_consultation02_doctor.wav\n",
      "Transcribing: https://raw.githubusercontent.com/raquelcolares/ROMTech/main/data/day2_consultation02_patient.wav\n",
      "Transcribing: https://raw.githubusercontent.com/raquelcolares/ROMTech/main/data/day2_consultation03_doctor.wav\n",
      "Transcribing: https://raw.githubusercontent.com/raquelcolares/ROMTech/main/data/day2_consultation03_patient.wav\n",
      "Transcribing: https://raw.githubusercontent.com/raquelcolares/ROMTech/main/data/day2_consultation04_doctor.wav\n",
      "Transcribing: https://raw.githubusercontent.com/raquelcolares/ROMTech/main/data/day2_consultation04_patient.wav\n",
      "Transcribing: https://raw.githubusercontent.com/raquelcolares/ROMTech/main/data/day2_consultation05_doctor.wav\n",
      "Transcribing: https://raw.githubusercontent.com/raquelcolares/ROMTech/main/data/day2_consultation05_patient.wav\n",
      "Transcribing: https://raw.githubusercontent.com/raquelcolares/ROMTech/main/data/day2_consultation06_doctor.wav\n",
      "Transcribing: https://raw.githubusercontent.com/raquelcolares/ROMTech/main/data/day2_consultation06_patient.wav\n",
      "Transcribing: https://raw.githubusercontent.com/raquelcolares/ROMTech/main/data/day2_consultation07_doctor.wav\n",
      "Transcribing: https://raw.githubusercontent.com/raquelcolares/ROMTech/main/data/day2_consultation07_patient.wav\n",
      "Transcribing: https://raw.githubusercontent.com/raquelcolares/ROMTech/main/data/day2_consultation08_doctor.wav\n",
      "Transcribing: https://raw.githubusercontent.com/raquelcolares/ROMTech/main/data/day2_consultation08_patient.wav\n",
      "Transcribing: https://raw.githubusercontent.com/raquelcolares/ROMTech/main/data/day2_consultation09_doctor.wav\n",
      "Transcribing: https://raw.githubusercontent.com/raquelcolares/ROMTech/main/data/day2_consultation09_patient.wav\n",
      "Transcribing: https://raw.githubusercontent.com/raquelcolares/ROMTech/main/data/day2_consultation10_doctor.wav\n",
      "Transcribing: https://raw.githubusercontent.com/raquelcolares/ROMTech/main/data/day2_consultation10_patient.wav\n",
      "Transcribing: https://raw.githubusercontent.com/raquelcolares/ROMTech/main/data/day3_consultation01_doctor.wav\n",
      "Transcribing: https://raw.githubusercontent.com/raquelcolares/ROMTech/main/data/day3_consultation01_patient.wav\n",
      "Transcribing: https://raw.githubusercontent.com/raquelcolares/ROMTech/main/data/day3_consultation02_doctor.wav\n",
      "Transcribing: https://raw.githubusercontent.com/raquelcolares/ROMTech/main/data/day3_consultation02_patient.wav\n",
      "Transcribing: https://raw.githubusercontent.com/raquelcolares/ROMTech/main/data/day3_consultation03_doctor.wav\n",
      "Transcribing: https://raw.githubusercontent.com/raquelcolares/ROMTech/main/data/day3_consultation03_patient.wav\n",
      "Transcribing: https://raw.githubusercontent.com/raquelcolares/ROMTech/main/data/day3_consultation04_doctor.wav\n",
      "Transcribing: https://raw.githubusercontent.com/raquelcolares/ROMTech/main/data/day3_consultation04_patient.wav\n",
      "Transcribing: https://raw.githubusercontent.com/raquelcolares/ROMTech/main/data/day3_consultation05_doctor.wav\n",
      "Transcribing: https://raw.githubusercontent.com/raquelcolares/ROMTech/main/data/day3_consultation05_patient.wav\n",
      "Transcribing: https://raw.githubusercontent.com/raquelcolares/ROMTech/main/data/day3_consultation06_doctor.wav\n",
      "Transcribing: https://raw.githubusercontent.com/raquelcolares/ROMTech/main/data/day3_consultation06_patient.wav\n",
      "Transcribing: https://raw.githubusercontent.com/raquelcolares/ROMTech/main/data/day3_consultation07_doctor.wav\n",
      "Transcribing: https://raw.githubusercontent.com/raquelcolares/ROMTech/main/data/day3_consultation07_patient.wav\n",
      "Transcribing: https://raw.githubusercontent.com/raquelcolares/ROMTech/main/data/day3_consultation08_doctor.wav\n",
      "Transcribing: https://raw.githubusercontent.com/raquelcolares/ROMTech/main/data/day3_consultation08_patient.wav\n",
      "Transcribing: https://raw.githubusercontent.com/raquelcolares/ROMTech/main/data/day3_consultation09_doctor.wav\n",
      "Transcribing: https://raw.githubusercontent.com/raquelcolares/ROMTech/main/data/day3_consultation09_patient.wav\n",
      "Transcribing: https://raw.githubusercontent.com/raquelcolares/ROMTech/main/data/day3_consultation10_doctor.wav\n",
      "Transcribing: https://raw.githubusercontent.com/raquelcolares/ROMTech/main/data/day3_consultation10_patient.wav\n",
      "Transcribing: https://raw.githubusercontent.com/raquelcolares/ROMTech/main/data/day4_consultation01_doctor.wav\n",
      "Transcribing: https://raw.githubusercontent.com/raquelcolares/ROMTech/main/data/day4_consultation01_patient.wav\n",
      "Transcribing: https://raw.githubusercontent.com/raquelcolares/ROMTech/main/data/day4_consultation02_doctor.wav\n",
      "Transcribing: https://raw.githubusercontent.com/raquelcolares/ROMTech/main/data/day4_consultation02_patient.wav\n",
      "Transcribing: https://raw.githubusercontent.com/raquelcolares/ROMTech/main/data/day4_consultation03_doctor.wav\n",
      "Transcribing: https://raw.githubusercontent.com/raquelcolares/ROMTech/main/data/day4_consultation03_patient.wav\n",
      "Transcribing: https://raw.githubusercontent.com/raquelcolares/ROMTech/main/data/day4_consultation04_doctor.wav\n",
      "Transcribing: https://raw.githubusercontent.com/raquelcolares/ROMTech/main/data/day4_consultation04_patient.wav\n",
      "Transcribing: https://raw.githubusercontent.com/raquelcolares/ROMTech/main/data/day4_consultation05_doctor.wav\n",
      "Transcribing: https://raw.githubusercontent.com/raquelcolares/ROMTech/main/data/day4_consultation05_patient.wav\n",
      "Transcribing: https://raw.githubusercontent.com/raquelcolares/ROMTech/main/data/day4_consultation06_doctor.wav\n",
      "Transcribing: https://raw.githubusercontent.com/raquelcolares/ROMTech/main/data/day4_consultation06_patient.wav\n",
      "Transcribing: https://raw.githubusercontent.com/raquelcolares/ROMTech/main/data/day4_consultation07_doctor.wav\n",
      "Transcribing: https://raw.githubusercontent.com/raquelcolares/ROMTech/main/data/day4_consultation07_patient.wav\n",
      "Transcribing: https://raw.githubusercontent.com/raquelcolares/ROMTech/main/data/day4_consultation08_doctor.wav\n",
      "Transcribing: https://raw.githubusercontent.com/raquelcolares/ROMTech/main/data/day4_consultation08_patient.wav\n",
      "Transcribing: https://raw.githubusercontent.com/raquelcolares/ROMTech/main/data/day4_consultation09_doctor.wav\n",
      "Transcribing: https://raw.githubusercontent.com/raquelcolares/ROMTech/main/data/day4_consultation09_patient.wav\n",
      "Transcribing: https://raw.githubusercontent.com/raquelcolares/ROMTech/main/data/day4_consultation10_doctor.wav\n",
      "Transcribing: https://raw.githubusercontent.com/raquelcolares/ROMTech/main/data/day4_consultation10_patient.wav\n",
      "Transcribing: https://raw.githubusercontent.com/raquelcolares/ROMTech/main/data/day5_consultation01_doctor.wav\n",
      "Transcribing: https://raw.githubusercontent.com/raquelcolares/ROMTech/main/data/day5_consultation01_patient.wav\n",
      "Transcribing: https://raw.githubusercontent.com/raquelcolares/ROMTech/main/data/day5_consultation02_doctor.wav\n",
      "Transcribing: https://raw.githubusercontent.com/raquelcolares/ROMTech/main/data/day5_consultation02_patient.wav\n",
      "Transcribing: https://raw.githubusercontent.com/raquelcolares/ROMTech/main/data/day5_consultation03_doctor.wav\n",
      "Transcribing: https://raw.githubusercontent.com/raquelcolares/ROMTech/main/data/day5_consultation03_patient.wav\n",
      "Transcribing: https://raw.githubusercontent.com/raquelcolares/ROMTech/main/data/day5_consultation04_doctor.wav\n",
      "Transcribing: https://raw.githubusercontent.com/raquelcolares/ROMTech/main/data/day5_consultation04_patient.wav\n",
      "Transcribing: https://raw.githubusercontent.com/raquelcolares/ROMTech/main/data/day5_consultation05_doctor.wav\n",
      "Transcribing: https://raw.githubusercontent.com/raquelcolares/ROMTech/main/data/day5_consultation05_patient.wav\n",
      "Transcribing: https://raw.githubusercontent.com/raquelcolares/ROMTech/main/data/day5_consultation06_doctor.wav\n",
      "Transcribing: https://raw.githubusercontent.com/raquelcolares/ROMTech/main/data/day5_consultation06_patient.wav\n",
      "Transcribing: https://raw.githubusercontent.com/raquelcolares/ROMTech/main/data/day5_consultation07_doctor.wav\n",
      "Transcribing: https://raw.githubusercontent.com/raquelcolares/ROMTech/main/data/day5_consultation07_patient.wav\n",
      "Transcribing: https://raw.githubusercontent.com/raquelcolares/ROMTech/main/data/day5_consultation08_doctor.wav\n",
      "Transcribing: https://raw.githubusercontent.com/raquelcolares/ROMTech/main/data/day5_consultation08_patient.wav\n",
      "Transcribing: https://raw.githubusercontent.com/raquelcolares/ROMTech/main/data/day5_consultation09_doctor.wav\n",
      "Transcribing: https://raw.githubusercontent.com/raquelcolares/ROMTech/main/data/day5_consultation09_patient.wav\n",
      "Transcribing: https://raw.githubusercontent.com/raquelcolares/ROMTech/main/data/day5_consultation10_doctor.wav\n",
      "Transcribing: https://raw.githubusercontent.com/raquelcolares/ROMTech/main/data/day5_consultation10_patient.wav\n",
      "Transcribing: https://raw.githubusercontent.com/raquelcolares/ROMTech/main/data/day5_consultation11_doctor.wav\n",
      "Transcribing: https://raw.githubusercontent.com/raquelcolares/ROMTech/main/data/day5_consultation11_patient.wav\n",
      "Transcribing: https://raw.githubusercontent.com/raquelcolares/ROMTech/main/data/day5_consultation12_doctor.wav\n",
      "Transcribing: https://raw.githubusercontent.com/raquelcolares/ROMTech/main/data/day5_consultation12_patient.wav\n",
      "\n",
      "----- Transcription and Summaries ------\n"
     ]
    },
    {
     "data": {
      "image/png": "[encoded data removed]",
      "text/plain": [
       "<Figure size 1000x400 with 1 Axes>"
      ]
     },
     "metadata": {},
     "output_type": "display_data"
    },
    {
     "name": "stdout",
     "output_type": "stream",
     "text": [
      "\n",
      "Transcript (1):  Hello. Hi. Shall we just stop? Yeah. Okay. Hello. The morning's a hug. I'll help you this morning. Sorry to hear that. And when you say diuret, what do you mean by diuret? I'm sorry. I'm sorry. I'm sorry. I'm sorry. I'm sorry. I'm sorry. I'm sorry. I'm sorry. I'm sorry. I'm sorry. I'm sorry. I'm sorry. I'm sorry. I'm sorry. I'm sorry. I'm sorry. I'm sorry. I'm sorry. And boring people and using rehersiorda sub-natural or putting moreued Bluetooth apps. And boring people and using a application for that software. So with the sewing experience or if you know what I'll say is if you know what I'm doing, the movie, the first Vous United and the firsténue, so you can attach your machine to the ring wheel on the questions list. Anyway, why don't we just say that one, while Okay, and you mentioned you've had some pain in your tummy as well. Whereabouts is a pain? Is that clear? What side is that? That side, okay. Then can you describe the pain to me? Okay, and is it there all the time or does it come and go? Does it pain move anywhere else? Is that on the towards your back? Okay, fine. And you mentioned you've been feeling quite weak and shaky as well. Would you be feeling less shaky? Do you mean you've been feeling feverish, for example? Do you measure your temperature then? Okay, okay. Any other symptoms like sweating or nights? No. And any vomiting at all? You've stopped vomiting, okay. And was your vomit? I know it's not nice we've talked about, but was it just normal food colour? Yeah, and there was no blood in your vomit. Is that right? No, okay. Any other symptoms at all? So you mentioned tummy pain, you mentioned diarrhea, you mentioned your vomiting. Anything else that comes to mind? Okay. Okay, so you're drinking fluids. What kind of foods have you managed to eat? Anything. Okay, fine. And so, these start just three days ago to symptoms. Are you aware of any triggers which may have caused symptoms to kick on? So, for example, things like takeaway foods or eating out or being around other people who would sing the symptoms. Thank you. Do you remember where you ate? Okay. Anyone else on well with similar symptoms? Okay, fine. And in terms of your overall health, are you normally facing well or? Okay. And did you ask them a well controlled? Fine. And you don't have any other tummy problem, bowel problem that should be aware of. No, okay. And pardon the inhalers, do you take any other medications? Okay, fine. In terms of your day to day life, you said it's been affecting your life. In what way has it been affecting your life? Okay. Yeah. Are you currently working at the moment? We'll work. Okay. Have you been going into work last three days? Have you been at home? Okay. That must be difficult for you then. Right. And you said you mentioned you live with a wife and two children, is that right? All right. Just a couple of other questions we need to ask. Do you smoke at all? And you drink much in a way of alcohol? Okay. So normally at this stage, I'll actually examine you if I say okay. But have you listened to your stories? I think you're just recap. For last three days, you've been having a loose stool diarrhea, a bit of tummy pain, million in the left hand side, vomiting and feeling, you're quite weak and ethargic. You mentioned you didn't have any Chinese takeaways all three days ago. And I wonder whether that might be the cause of your problems. It seems like you may have something called gastroenteritis, which essentially is the tummy bug or infection of your tummy. Mainly caused by viruses, but it can be a possibility of bacteria causing your symptoms. At this stage, what we'd recommend is just what we say conservative management. So I don't think you need any anti-barges. It's really just making sure you're well-quidrated, so drinking fluids. There are things like diorolite you can get from the pharmacy, which it helps replenish some of your minerals and vitamins. And if you are having vomiting and diarrhea, I would recommend that in the first couple of days. If you're offering feverish and weak, taking some paracetamol, a few tablets up to four times a day for the first few days can also help. I was certainly going to advise you to take some time to work, actually. I know you're quite keen to work. I would say next two to three days, as I mentioned, clears from your system, takes some time off and rest. If your symptoms haven't got better in three to four days, I'll write you a time back in senior again. Because if it is ongoing, then we have to wonder whether it's something else called your symptoms and we may need to do further tinnus, like taking a sample of your stool, so we can test that, et cetera, et cetera. How does that sound? Do you have any questions for me? Okay, is the treatment plan clear? Great, I wish you all the best. Thank you.\n",
      "Summary (1): I'm sorry. I'm sorry. I'm sorry. Is that right? No, okay. Do you remember where you ate? Okay\n",
      "Cosine Similarity (1): 0.9269\n",
      "\n",
      "Transcript (2):  Hello. I just had some diaries for the last three days. And it's been affecting me. I need to stay close to the toilet. And yeah, it's been affecting my day to day activities. Yeah, so it's like loose and watery stall going to the toilet quite often. And like some pain in my like lower stomach. Like six, seven times a day. No, no blood. Yeah, just watery and loose stall. Yeah. So in my lower abdomen. So like, yeah, just to one side. On the left side. Yeah, it feels like a cramp, like a muscular cramp. And yeah, I feel a bit weak and shaky. Comes and goes. No, just mainly my stomach. Yeah, it doesn't feel like, yeah, I just made it feel weak. I haven't had a fever at the moment, but I did notice a temperature when the symptoms started. So around about three or four days ago. Yeah, I didn't mention my temperature, no, but I felt just a bit hot. No. Yeah, so I vomited at the start of the symptoms, but now I've stopped vomiting. Yeah, just a little vomit. No, no. Yeah, I had a loss of appetite. So I haven't been eating as much, but I've been able to hold down fluids. Yeah. I'm just suites and, yeah, light foods, like smoothies and, yeah, liquid foods mainly. Yeah, so I had to take away about four days ago, but other than that, I've been eating normally. Nothing unusual, yeah. Yeah, I write to the Chinese restaurant with friends. So no one else in the family, so I've wife and two kids and one child was vomiting, but they haven't got the area. There's no one with the same symptoms. Yeah, I mean, other than asthma, I'm using inhaler, everything else is fine. Yeah, that's fine. Just use an inhaler and that's under control. No. No, no other medications. Yeah. So I need to stay close to the toilet because I go quite frequently during these past three days. Yeah, other than that, it's the main concern. Yeah, I work. I'm in the cabsons. Yeah, I've been going to work. Yeah, it's been quite difficult. Yes, yeah. No, I don't smoke. No, I don't drink alcohol though. Yeah. Okay. Okay. Yeah. Yeah. Okay. Yeah. Yeah. Yeah. Yeah. Okay. Yeah. Yeah, sure. That sounds great. No, no further questions. Yeah, yeah, that's very clear. Thank you. Okay. Thank you. Bye.\n",
      "Summary (2): Yeah. Yeah. Yeah. Yeah. Yeah, yeah, that's very clear\n",
      "Cosine Similarity (2): 0.9259\n",
      "\n",
      "Transcript (3):  Hello. Yes, I think it's a bit better. It's a bit, it's not very clear, but let's continue anyway. Okay, let's start again. So how can I help you, sir? Okay. No, no problem. I'm happy to help. Whereabouts of your skin is affected? Yeah. No, no, okay. I understand this is obviously affecting you and we'll try our very best to get us sorted out for you. Have you had anything that has been formed past? Okay. Okay. Did it help? Okay. Do you remember the name of the creamy board? Okay. Would you say these symptoms are very similar to your X-ma symptoms or different? Okay. No, well, okay. So you mentioned itchiness. You also mentioned it's been quite sore. Have you noticed any bleeding or discharge from your skin? Okay. You know, amnesty or any other past or blood coming out of your skin? No. And you mentioned it all started three days ago. Are you bored as a girl? Are you aware of any triggers? Anything that you may have done that may have caused your symptoms to start? So, for example, maybe change your shower gel and your clothing? Have you been around anyone else? No, no. Okay. That's okay. Fine. So just to summarize, for the last four days you've had very itchy skin, very sore skin, all over your body, mainly your chest, and did you also mention your arms and legs as well? Okay. Any one thing on your face at all? No. Okay. And apart from this, any other symptoms have you noticed? For example, have you noticed any temperature or fevers? Okay. So your bowels are working okay. Your chest is okay. No cough, no breathing difficulties. You're passing urine okay? Okay. Alright. It's always good to know. So, I mean, do you have any ideas as to what could be causing your symptoms? Any ideas as to what could be causing your symptoms? Okay. No, it's okay. So normally at this stage, I like to examine you to see the rash yourself and see exactly what type of rash it is. But from what you've told me, you mentioned it's you've got some dry skin and some cracked skin as well, and it's been very itchy. And so with your, your back kind of ex-mouth, sorry, there's a couple of questions I want to ask you, which I've completely forgot my apologies. Apart from the ex-mouth, do you have any other medical problems? I should be aware of. Okay. Not anymore. Okay. And do you take any regular medications at the moment? No. Okay. Do you have any allergies to anything? Sorry, I'm going to give you allergies. Hello? Oh, can you hear me? Is there anything you... Do you have any allergies at all? No. Okay. And tell me about your situation at home. Who do you live with? Okay. Okay. And what do you do for work? Okay. No, no, no, that's absolutely fine. Just a couple of questions I want to ask you, which can in some sort of a factor of symptoms, is do you smoke at all? No. And do you drink much in a way alcohol? Okay. Okay. I've got to say at this date, I've got to say that the sound quality is not great, but I will continue because we've come this far. So based on everything you mentioned, I do wonder whether this is a flare-up of your ex-mouth. The reason being that you said it's quite itchy, it's many effecting your chest and your back. And having looked at your skin, the rash does pick quite familiar. You mentioned using sterile creams yesterday, from the pharmacy. I wonder whether giving you stronger prescription of a steroid may be beneficial, which I'm happy to prescribe to you today, as well as giving you some amolients, which helps moisturise the skin, which you can use in the bath and shower. And it's definitely worth using that for the first seven to ten days before we make a decision on whether it's working or not. It's also worth using anti-histamines, which you can sometimes buy over counter, things like lyracidine or pyrritan, which can help with the itchiness of your skin. And it's also worth keeping a diary of any triggers, which are affecting your symptoms, anything you wear or anything you use in terms of shower gels or soap, because if that's causing your symptoms, then we need to have a discussion about our next summer CE. Oh, could you say again, sorry? Okay. I don't know. Okay. So there's something for you to think about. You can get different type of antisystemines. I can give you something a little bit stronger today, as well. Something like fix a phenidine, which I can give to you today. It's definitely worth trying, it's not going to be a new home, but I say anything using the steroids and the amolients on a regular basis. I would next week to 10 days should hopefully control your symptoms, but do come back and see me next week if things don't get better. Okay. Do you have any questions for me? Okay, well I wish you all the best. Okay, have a good day.\n",
      "Summary (3): Have you had anything that has been formed past? Okay. Did it help? Okay. Would you say these symptoms are very similar to your X-ma symptoms or different? Okay. So your bowels are working okay. Oh, could you say again, sorry? Okay\n",
      "Cosine Similarity (3): 0.9317\n",
      "\n",
      "Transcript (4):  Hello, can you hear me well? Okay. Yes, so it's been a few days now. I have like a sore and a red skin. It's kind of, it's really itchy and it's like super annoying. So I'd like to find something quick to solve it. Mostly like my chest, my hands, my arms, like, like, really, it's super annoying. Like, it's teaching a lot, like all the time. And I can't even sleep at night. Like, I really need something quickly to solve it. Because even at work, when I'm in the meeting and I have to think about my work and focus, like, actually, focus on my work, it's really annoying because I can't actually think about what I have to say. I'm always like disturbing by this disease. And so, yes, earlier I was like prescribed for my exam. And I was like, I was like, I was like, I'm cream and something to, when I was in the shower, I had to put something. And I mean, at that time, yes, like, these symptoms appear again. I tried those and it didn't work. I've tried a few things. I bought like a spirit cream at the pharmacy last night. But it apparently didn't help because it's still itchy. I'm a lot of day. Yeah. A spirit cream. And it's much more like itchy and my exam was more like only in the arm. And now it's also on the chest and in the hands as well. Yeah, I like, for instance, hiking during the weekends. And I can't really do it anymore because it's like very, like, I wanted to do that last weekend. And it was super painful. And I can't have to take showers every day to be able to kind of ease this teaching part, which is very, very annoying. Yeah. Exactly. No. So my skin is a bit cracked in some parts, like kind of cracked if you see what I mean, but yeah. No. I'm not going to be able to do that for four days ago. No, it's actually like it's really annoying because I'm thinking about baby. I should change something because I haven't and I don't understand. I'm afraid of asking people around me because it's kind of, you know, I don't feel really comfortable asking about these questions. It's kind of intimate and so I'll show your head now. And no, just the chest, hands and like, like, inside the airbows. Yeah. In my what? Or on my face? No. No, just very cheap. Nothing else. No. I think so. I'm not sure. Anyone. And I had an exam before. So maybe it's this, but it seems like more like my exam was only on the arm. So I'm not sure I really have. Yeah. No, I just had asthma in the past, but not anymore. No. I like. Sorry. Hello. Yes. Oh, allergies. So I live with a few flatmates. So you know, I'm 31. I have a full time job and so I'm living with a few people to save money. I work at a pharmaceutical company. So it's been a few years now. It's a it's kind of interesting. We're working. I'm like a kind of project manager. I mean, do you want to know more about it? No. I know what once in a while. I can I like hanging out with people once in a while. So yeah, I'd say a few a few beers, a week, something exists. Nothing. Nothing crazy. I used to drink a lot more when I was younger, but it's been. It's been. Yeah. Okay. Okay. Okay. Okay. Okay. Okay. Okay. Just I have tried anti-fistamines lately, but it didn't really help. I have tried the anti-fistamines, but it didn't really help. Okay. Okay. That sounds good. And no, that's it. Thank you very much. Right. Thank you. Bye.\n",
      "Summary (4): But it apparently didn't help because it's still itchy. I think so. So I'm not sure I really have. Yes. I mean, do you want to know more about it? No\n",
      "Cosine Similarity (4): 0.9267\n",
      "\n",
      "Transcript (5):  Hello, it's Dr. C here. How can I help you this afternoon? I'm sorry to hear this. Can you tell me more about the headache? Okay. Let's try best. Let's try and get you well soon. You mentioned this on your left hand side. It started a midday a few hours ago. Did the pain come in quite suddenly? Was it more of a gradual buildup? Are you able to describe what kind of headache it was? Is it more of a sharp pain? Is it moving anywhere else at all? Is that when you move your neck? Is that what your main worry is today? I'm sorry to hear that. I can understand why it's affecting you. You mentioned a few things. You mentioned the headaches. Is that on both eyes or left eye? Have you seen bright lights? Have you seen it? Okay. Any other funny skin rash that you may have noticed? Do you know me? I can see your concerns. I'm asking you some questions. Do you have any interest in your head? Do you have any other medical history? If someone told you you had migraines in the past? My next question was about family history. Is there any other problem with brain cancer? How long have you been on that for? What challenges were there? You mentioned you were an illness and you're working on a mot fragments and you're working on a fashion industry and you're doing all your job more stressed minds? Is it getting you down? Okay, alright. And what kind of things do you do to alleviate your stress normally? Okay, do you do much in a way of exercise? Okay, who's at home with you? Are you coping okay at the moment? Do you smoke at all? And do you drink much in a way of alcohol? So normally I say I kind of proceed to examination, but based on your story, I wonder whether you may have a migraine type headache. It sounds very classical of that, of that nature, either the headache on one side, throwing nature, the nausea, vomiting, sensitivity of bright lights. I'm reassured that you don't have anything more serious, such as meningitis or indeed brain cancer. I know that was a big worry of yours initially. Yeah, well I hope that puts your ear minor ease. Certainly this is the second migraine you've had in the space of a month. So I think moving forwards is a couple of options. I think keeping a headache diary would be quite important to see exactly what's triggering this headache. But we should also try and treat your headaches today, some strong painkillers would be advisable. So you know, think about paracetamol or even cocodamol and some anti-inflammatory such as ibuprofen and naproxen. How does that sound to you? And if your headaches were to become more persistent, then we can maybe think about getting you some medications that will stop your headaches from happening in the first place, something in the prophylactic medicines. Then we can have discussion next time I see you next week, perhaps. Now, the couple of things I want you to think about is, you know, if your symptoms aren't getting better next two, three days or indeed they're getting worse, I'd like you to come back and see me straight away, if possible. So if your headaches are getting worse and not responding to medications or your neck pain is getting worse or you're developing weakness in your arms and legs or your vision, then I want you to come back and see me straight away. Does that sound all okay? Any other questions from me? Okay, probably good day.\n",
      "Summary (5): Can you tell me more about the headache? Okay. I can understand why it's affecting you. I'm asking you some questions. I know that was a big worry of yours initially. Certainly this is the second migraine you've had in the space of a month\n",
      "Cosine Similarity (5): 0.9215\n"
     ]
    }
   ],
   "source": [
    "# Main function for the transcription and summarization process\n",
    "def main():\n",
    "    print(\"\\n------ Transcribing the audio files of Github ------\")\n",
    "    transcriptions = transcribe_all_from_github()\n",
    "\n",
    "    avg_similarities = []\n",
    "\n",
    "    print(\"\\n----- Transcription and Summaries ------\")\n",
    "    # Printing a few transcriptions and summaries for analysis\n",
    "    for i, transcription in enumerate(transcriptions[:5]):\n",
    "        summary, avg_sim = summarize_with_bert(transcription, plot=(i == 0))\n",
    "        avg_similarities.append(avg_sim)\n",
    "        print(f\"\\nTranscript ({i+1}): {transcription}\")\n",
    "        print(f\"Summary ({i+1}): {summary}\")\n",
    "        print(f\"Cosine Similarity ({i+1}): {avg_sim:.4f}\")\n",
    "\n",
    "\n",
    "if __name__ == \"__main__\":\n",
    "    main()"
   ]
  },
  {
   "cell_type": "markdown",
   "metadata": {
    "id": "7l4ltobaKSF2"
   },
   "source": [
    "## References"
   ]
  },
  {
   "cell_type": "markdown",
   "metadata": {
    "id": "ZQmybnQrKchA"
   },
   "source": [
    "\n",
    "Korfiatis A.P, Sarac R., Moramarco F., Savkov A. (2022). *PriMock57: A Dataset Of Primary Care Mock Consultations.* Available at: https://arxiv.org/abs/2204.00333 (Accessed: February 2025)\n",
    "\n",
    "*Sequence Modeling With CTC* Available at: https://distill.pub/2017/ctc/ (Accessed: February 2025)\n",
    "\n",
    "Platen, P.V. *Fine-Tune Wav2Vec2 for English ASR with Transformers* Available at: https://huggingface.co/blog/fine-tune-wav2vec2-english (Accessed: February 2025)\n",
    "\n",
    "OpenAI Platform. *Speech to text.* Available at: https://platform.openai.com/docs/guides/speech-to-text (Accessed: February 2025)\n",
    "\n",
    "PyTorch. *Cosine Similarity.* Available at: https://pytorch.org/docs/stable/generated/torch.nn.CosineSimilarity.html (Accessed: April 2025)"
   ]
  }
 ],
 "metadata": {
  "language_info": {
   "name": "python"
  }
 },
 "nbformat": 4,
 "nbformat_minor": 0
}
